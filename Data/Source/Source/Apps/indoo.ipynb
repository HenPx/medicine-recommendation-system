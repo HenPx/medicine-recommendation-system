{
 "cells": [
  {
   "cell_type": "markdown",
   "id": "0da374b1",
   "metadata": {
    "papermill": {
     "duration": 0.015215,
     "end_time": "2024-09-11T19:04:19.129371",
     "exception": false,
     "start_time": "2024-09-11T19:04:19.114156",
     "status": "completed"
    },
    "tags": []
   },
   "source": [
    "<h1><b><p style=\"background-image: url(https://i.postimg.cc/0Qwf8YX6/2927262.jpg);font-family:camtasia;font-size:110%;color:white;text-align:center;border-radius:15px 50px; padding:7px; border:solid 2px #09375b; box-shadow: 10px 10px 10px #042b4c\">Project Title: Medical Recommendation System with Machine Learning</p></b></h1>\n",
    "\n",
    "### Tabel of Contents:\n",
    "\n",
    "* [Import Libraries](#1)\n",
    "* [Load Dataset](#2)\n",
    "* [Preprocessing](#3)\n",
    "* [ML Models](#4)\n",
    "* [Logic for Recommendations](#5)\n",
    "* [Like this? Upvote and comment! 🌊 End](#6)"
   ]
  },
  {
   "cell_type": "markdown",
   "id": "cbeae693",
   "metadata": {
    "papermill": {
     "duration": 0.013992,
     "end_time": "2024-09-11T19:04:19.157428",
     "exception": false,
     "start_time": "2024-09-11T19:04:19.143436",
     "status": "completed"
    },
    "tags": []
   },
   "source": [
    "**<a id=\"1\"></a>\n",
    "<h1><b><p style=\"background-image: url(https://i.postimg.cc/0Qwf8YX6/2927262.jpg);font-family:camtasia;font-size:110%;color:white;text-align:center;border-radius:15px 50px; padding:7px; border:solid 2px #09375b; box-shadow: 10px 10px 10px #042b4c\">Import Libraries</p></b></h1>\n",
    "<a class=\"btn\" href=\"#home\">Tabel of Contents</a>"
   ]
  },
  {
   "cell_type": "code",
   "execution_count": 124,
   "id": "1057bb4a",
   "metadata": {
    "execution": {
     "iopub.execute_input": "2024-09-11T19:04:19.186986Z",
     "iopub.status.busy": "2024-09-11T19:04:19.186560Z",
     "iopub.status.idle": "2024-09-11T19:04:25.102691Z",
     "shell.execute_reply": "2024-09-11T19:04:25.101670Z"
    },
    "papermill": {
     "duration": 5.933775,
     "end_time": "2024-09-11T19:04:25.105172",
     "exception": false,
     "start_time": "2024-09-11T19:04:19.171397",
     "status": "completed"
    },
    "tags": []
   },
   "outputs": [],
   "source": [
    "import pandas as pd\n",
    "import numpy as np\n",
    "import matplotlib.pyplot as plt\n",
    "import seaborn as sns\n",
    "# Libraries for Machine Learning\n",
    "from sklearn.model_selection import train_test_split\n",
    "from sklearn.preprocessing import LabelEncoder\n",
    "from sklearn.model_selection import cross_val_score,GridSearchCV\n",
    "from sklearn.metrics import confusion_matrix,classification_report, accuracy_score, f1_score, precision_score, recall_score\n",
    "import pickle\n",
    "# Models\n",
    "from sklearn.ensemble import RandomForestClassifier\n",
    "from xgboost import XGBClassifier\n",
    "from lightgbm import LGBMClassifier\n",
    "from lightgbm import LGBMClassifier\n",
    "from sklearn.tree import DecisionTreeClassifier\n",
    "from sklearn.neighbors import KNeighborsClassifier\n",
    "from sklearn.svm import SVC\n",
    "from sklearn.linear_model import LogisticRegression\n",
    "# ignore warning\n",
    "import warnings\n",
    "warnings.filterwarnings('ignore')"
   ]
  },
  {
   "cell_type": "markdown",
   "id": "4028c7f2",
   "metadata": {
    "papermill": {
     "duration": 0.014406,
     "end_time": "2024-09-11T19:04:25.134044",
     "exception": false,
     "start_time": "2024-09-11T19:04:25.119638",
     "status": "completed"
    },
    "tags": []
   },
   "source": [
    "**<a id=\"2\"></a>\n",
    "<h1><b><p style=\"background-image: url(https://i.postimg.cc/0Qwf8YX6/2927262.jpg);font-family:camtasia;font-size:110%;color:white;text-align:center;border-radius:15px 50px; padding:7px; border:solid 2px #09375b; box-shadow: 10px 10px 10px #042b4c\">Load Dataset</p></b></h1>\n",
    "<a class=\"btn\" href=\"#home\">Tabel of Contents</a>"
   ]
  },
  {
   "cell_type": "code",
   "execution_count": 125,
   "id": "9e803bd5",
   "metadata": {
    "execution": {
     "iopub.execute_input": "2024-09-11T19:04:25.165097Z",
     "iopub.status.busy": "2024-09-11T19:04:25.164375Z",
     "iopub.status.idle": "2024-09-11T19:04:25.285291Z",
     "shell.execute_reply": "2024-09-11T19:04:25.284348Z"
    },
    "papermill": {
     "duration": 0.138987,
     "end_time": "2024-09-11T19:04:25.287489",
     "exception": false,
     "start_time": "2024-09-11T19:04:25.148502",
     "status": "completed"
    },
    "tags": []
   },
   "outputs": [
    {
     "data": {
      "text/html": [
       "<div>\n",
       "<style scoped>\n",
       "    .dataframe tbody tr th:only-of-type {\n",
       "        vertical-align: middle;\n",
       "    }\n",
       "\n",
       "    .dataframe tbody tr th {\n",
       "        vertical-align: top;\n",
       "    }\n",
       "\n",
       "    .dataframe thead th {\n",
       "        text-align: right;\n",
       "    }\n",
       "</style>\n",
       "<table border=\"1\" class=\"dataframe\">\n",
       "  <thead>\n",
       "    <tr style=\"text-align: right;\">\n",
       "      <th></th>\n",
       "      <th>gatal</th>\n",
       "      <th>ruam kulit</th>\n",
       "      <th>erupsi_kulit_nodal</th>\n",
       "      <th>bersin_terus_menerus</th>\n",
       "      <th>gemetaran</th>\n",
       "      <th>panas dingin</th>\n",
       "      <th>nyeri sendi</th>\n",
       "      <th>sakit perut</th>\n",
       "      <th>keasaman</th>\n",
       "      <th>bisul_di_lidah</th>\n",
       "      <th>...</th>\n",
       "      <th>komedo</th>\n",
       "      <th>menggeliat</th>\n",
       "      <th>kulit_terkelupas</th>\n",
       "      <th>debu_seperti_perak</th>\n",
       "      <th>lekukan kecil pada kuku</th>\n",
       "      <th>kuku_inflamasi</th>\n",
       "      <th>lepuh</th>\n",
       "      <th>luka_merah_di_sekitar_hidung</th>\n",
       "      <th>kerak_kuning_cairan_kerak</th>\n",
       "      <th>prognosa</th>\n",
       "    </tr>\n",
       "  </thead>\n",
       "  <tbody>\n",
       "    <tr>\n",
       "      <th>0</th>\n",
       "      <td>1</td>\n",
       "      <td>1</td>\n",
       "      <td>1</td>\n",
       "      <td>0</td>\n",
       "      <td>0</td>\n",
       "      <td>0</td>\n",
       "      <td>0</td>\n",
       "      <td>0</td>\n",
       "      <td>0</td>\n",
       "      <td>0</td>\n",
       "      <td>...</td>\n",
       "      <td>0</td>\n",
       "      <td>0</td>\n",
       "      <td>0</td>\n",
       "      <td>0</td>\n",
       "      <td>0</td>\n",
       "      <td>0</td>\n",
       "      <td>0</td>\n",
       "      <td>0</td>\n",
       "      <td>0</td>\n",
       "      <td>Infeksi jamur</td>\n",
       "    </tr>\n",
       "    <tr>\n",
       "      <th>1</th>\n",
       "      <td>0</td>\n",
       "      <td>1</td>\n",
       "      <td>1</td>\n",
       "      <td>0</td>\n",
       "      <td>0</td>\n",
       "      <td>0</td>\n",
       "      <td>0</td>\n",
       "      <td>0</td>\n",
       "      <td>0</td>\n",
       "      <td>0</td>\n",
       "      <td>...</td>\n",
       "      <td>0</td>\n",
       "      <td>0</td>\n",
       "      <td>0</td>\n",
       "      <td>0</td>\n",
       "      <td>0</td>\n",
       "      <td>0</td>\n",
       "      <td>0</td>\n",
       "      <td>0</td>\n",
       "      <td>0</td>\n",
       "      <td>Infeksi jamur</td>\n",
       "    </tr>\n",
       "    <tr>\n",
       "      <th>2</th>\n",
       "      <td>1</td>\n",
       "      <td>0</td>\n",
       "      <td>1</td>\n",
       "      <td>0</td>\n",
       "      <td>0</td>\n",
       "      <td>0</td>\n",
       "      <td>0</td>\n",
       "      <td>0</td>\n",
       "      <td>0</td>\n",
       "      <td>0</td>\n",
       "      <td>...</td>\n",
       "      <td>0</td>\n",
       "      <td>0</td>\n",
       "      <td>0</td>\n",
       "      <td>0</td>\n",
       "      <td>0</td>\n",
       "      <td>0</td>\n",
       "      <td>0</td>\n",
       "      <td>0</td>\n",
       "      <td>0</td>\n",
       "      <td>Infeksi jamur</td>\n",
       "    </tr>\n",
       "    <tr>\n",
       "      <th>3</th>\n",
       "      <td>1</td>\n",
       "      <td>1</td>\n",
       "      <td>0</td>\n",
       "      <td>0</td>\n",
       "      <td>0</td>\n",
       "      <td>0</td>\n",
       "      <td>0</td>\n",
       "      <td>0</td>\n",
       "      <td>0</td>\n",
       "      <td>0</td>\n",
       "      <td>...</td>\n",
       "      <td>0</td>\n",
       "      <td>0</td>\n",
       "      <td>0</td>\n",
       "      <td>0</td>\n",
       "      <td>0</td>\n",
       "      <td>0</td>\n",
       "      <td>0</td>\n",
       "      <td>0</td>\n",
       "      <td>0</td>\n",
       "      <td>Infeksi jamur</td>\n",
       "    </tr>\n",
       "    <tr>\n",
       "      <th>4</th>\n",
       "      <td>1</td>\n",
       "      <td>1</td>\n",
       "      <td>1</td>\n",
       "      <td>0</td>\n",
       "      <td>0</td>\n",
       "      <td>0</td>\n",
       "      <td>0</td>\n",
       "      <td>0</td>\n",
       "      <td>0</td>\n",
       "      <td>0</td>\n",
       "      <td>...</td>\n",
       "      <td>0</td>\n",
       "      <td>0</td>\n",
       "      <td>0</td>\n",
       "      <td>0</td>\n",
       "      <td>0</td>\n",
       "      <td>0</td>\n",
       "      <td>0</td>\n",
       "      <td>0</td>\n",
       "      <td>0</td>\n",
       "      <td>Infeksi jamur</td>\n",
       "    </tr>\n",
       "  </tbody>\n",
       "</table>\n",
       "<p>5 rows × 133 columns</p>\n",
       "</div>"
      ],
      "text/plain": [
       "   gatal  ruam kulit  erupsi_kulit_nodal  bersin_terus_menerus  gemetaran  \\\n",
       "0      1           1                   1                     0          0   \n",
       "1      0           1                   1                     0          0   \n",
       "2      1           0                   1                     0          0   \n",
       "3      1           1                   0                     0          0   \n",
       "4      1           1                   1                     0          0   \n",
       "\n",
       "   panas dingin  nyeri sendi  sakit perut  keasaman  bisul_di_lidah  ...  \\\n",
       "0             0            0            0         0               0  ...   \n",
       "1             0            0            0         0               0  ...   \n",
       "2             0            0            0         0               0  ...   \n",
       "3             0            0            0         0               0  ...   \n",
       "4             0            0            0         0               0  ...   \n",
       "\n",
       "   komedo  menggeliat  kulit_terkelupas  debu_seperti_perak  \\\n",
       "0       0           0                 0                   0   \n",
       "1       0           0                 0                   0   \n",
       "2       0           0                 0                   0   \n",
       "3       0           0                 0                   0   \n",
       "4       0           0                 0                   0   \n",
       "\n",
       "   lekukan kecil pada kuku  kuku_inflamasi  lepuh  \\\n",
       "0                        0               0      0   \n",
       "1                        0               0      0   \n",
       "2                        0               0      0   \n",
       "3                        0               0      0   \n",
       "4                        0               0      0   \n",
       "\n",
       "   luka_merah_di_sekitar_hidung  kerak_kuning_cairan_kerak       prognosa  \n",
       "0                             0                          0  Infeksi jamur  \n",
       "1                             0                          0  Infeksi jamur  \n",
       "2                             0                          0  Infeksi jamur  \n",
       "3                             0                          0  Infeksi jamur  \n",
       "4                             0                          0  Infeksi jamur  \n",
       "\n",
       "[5 rows x 133 columns]"
      ]
     },
     "execution_count": 125,
     "metadata": {},
     "output_type": "execute_result"
    }
   ],
   "source": [
    "dataset = pd.read_csv('C:/Users/Widnyana/Downloads/NAMA SAYA/MAHASISWA_NAMA SAYA_V1/Source/indo/Training.csv')\n",
    "dataset.head()"
   ]
  },
  {
   "cell_type": "code",
   "execution_count": 126,
   "id": "fc72ee02",
   "metadata": {},
   "outputs": [
    {
     "data": {
      "text/plain": [
       "gatal                           0\n",
       "ruam kulit                      0\n",
       "erupsi_kulit_nodal              0\n",
       "bersin_terus_menerus            0\n",
       "gemetaran                       0\n",
       "                               ..\n",
       "kuku_inflamasi                  0\n",
       "lepuh                           0\n",
       "luka_merah_di_sekitar_hidung    0\n",
       "kerak_kuning_cairan_kerak       0\n",
       "prognosa                        0\n",
       "Length: 133, dtype: int64"
      ]
     },
     "execution_count": 126,
     "metadata": {},
     "output_type": "execute_result"
    }
   ],
   "source": [
    "nan_count = dataset.isna().sum()\n",
    "nan_count"
   ]
  },
  {
   "cell_type": "code",
   "execution_count": 127,
   "id": "fda0388b",
   "metadata": {
    "execution": {
     "iopub.execute_input": "2024-09-11T19:04:25.319530Z",
     "iopub.status.busy": "2024-09-11T19:04:25.319122Z",
     "iopub.status.idle": "2024-09-11T19:04:25.325192Z",
     "shell.execute_reply": "2024-09-11T19:04:25.324292Z"
    },
    "papermill": {
     "duration": 0.024163,
     "end_time": "2024-09-11T19:04:25.327269",
     "exception": false,
     "start_time": "2024-09-11T19:04:25.303106",
     "status": "completed"
    },
    "tags": []
   },
   "outputs": [
    {
     "data": {
      "text/plain": [
       "(4920, 133)"
      ]
     },
     "execution_count": 127,
     "metadata": {},
     "output_type": "execute_result"
    }
   ],
   "source": [
    "dataset.shape"
   ]
  },
  {
   "cell_type": "code",
   "execution_count": 128,
   "id": "c7243cf9",
   "metadata": {
    "execution": {
     "iopub.execute_input": "2024-09-11T19:04:25.360255Z",
     "iopub.status.busy": "2024-09-11T19:04:25.359871Z",
     "iopub.status.idle": "2024-09-11T19:04:25.384954Z",
     "shell.execute_reply": "2024-09-11T19:04:25.383733Z"
    },
    "papermill": {
     "duration": 0.043759,
     "end_time": "2024-09-11T19:04:25.387119",
     "exception": false,
     "start_time": "2024-09-11T19:04:25.343360",
     "status": "completed"
    },
    "tags": []
   },
   "outputs": [
    {
     "name": "stdout",
     "output_type": "stream",
     "text": [
      "<class 'pandas.core.frame.DataFrame'>\n",
      "RangeIndex: 4920 entries, 0 to 4919\n",
      "Columns: 133 entries, gatal to prognosa\n",
      "dtypes: int64(132), object(1)\n",
      "memory usage: 5.0+ MB\n"
     ]
    }
   ],
   "source": [
    "dataset.info()"
   ]
  },
  {
   "cell_type": "code",
   "execution_count": 129,
   "id": "2a6bc163",
   "metadata": {
    "execution": {
     "iopub.execute_input": "2024-09-11T19:04:25.419476Z",
     "iopub.status.busy": "2024-09-11T19:04:25.418582Z",
     "iopub.status.idle": "2024-09-11T19:04:25.437005Z",
     "shell.execute_reply": "2024-09-11T19:04:25.436036Z"
    },
    "papermill": {
     "duration": 0.037183,
     "end_time": "2024-09-11T19:04:25.439402",
     "exception": false,
     "start_time": "2024-09-11T19:04:25.402219",
     "status": "completed"
    },
    "tags": []
   },
   "outputs": [
    {
     "data": {
      "text/html": [
       "<div>\n",
       "<style scoped>\n",
       "    .dataframe tbody tr th:only-of-type {\n",
       "        vertical-align: middle;\n",
       "    }\n",
       "\n",
       "    .dataframe tbody tr th {\n",
       "        vertical-align: top;\n",
       "    }\n",
       "\n",
       "    .dataframe thead th {\n",
       "        text-align: right;\n",
       "    }\n",
       "</style>\n",
       "<table border=\"1\" class=\"dataframe\">\n",
       "  <thead>\n",
       "    <tr style=\"text-align: right;\">\n",
       "      <th></th>\n",
       "      <th>Penyakit</th>\n",
       "      <th>Keterangan</th>\n",
       "    </tr>\n",
       "  </thead>\n",
       "  <tbody>\n",
       "    <tr>\n",
       "      <th>0</th>\n",
       "      <td>Infeksi jamur</td>\n",
       "      <td>Infeksi jamur adalah kondisi kulit umum yang d...</td>\n",
       "    </tr>\n",
       "    <tr>\n",
       "      <th>1</th>\n",
       "      <td>Alergi</td>\n",
       "      <td>Alergi adalah reaksi sistem kekebalan tubuh te...</td>\n",
       "    </tr>\n",
       "    <tr>\n",
       "      <th>2</th>\n",
       "      <td>Penyakit GERD</td>\n",
       "      <td>GERD (Gastroesophageal Reflux Disease) adalah ...</td>\n",
       "    </tr>\n",
       "    <tr>\n",
       "      <th>3</th>\n",
       "      <td>Kolestasis kronis</td>\n",
       "      <td>Kolestasis kronis merupakan suatu kondisi di m...</td>\n",
       "    </tr>\n",
       "    <tr>\n",
       "      <th>4</th>\n",
       "      <td>Reaksi Obat</td>\n",
       "      <td>Reaksi Obat terjadi ketika tubuh bereaksi nega...</td>\n",
       "    </tr>\n",
       "  </tbody>\n",
       "</table>\n",
       "</div>"
      ],
      "text/plain": [
       "            Penyakit                                         Keterangan\n",
       "0      Infeksi jamur  Infeksi jamur adalah kondisi kulit umum yang d...\n",
       "1             Alergi  Alergi adalah reaksi sistem kekebalan tubuh te...\n",
       "2      Penyakit GERD  GERD (Gastroesophageal Reflux Disease) adalah ...\n",
       "3  Kolestasis kronis  Kolestasis kronis merupakan suatu kondisi di m...\n",
       "4        Reaksi Obat  Reaksi Obat terjadi ketika tubuh bereaksi nega..."
      ]
     },
     "execution_count": 129,
     "metadata": {},
     "output_type": "execute_result"
    }
   ],
   "source": [
    "description = pd.read_csv('C:/Users/Widnyana/Downloads/NAMA SAYA/MAHASISWA_NAMA SAYA_V1/Source/indo/new_desc.csv')\n",
    "\n",
    "\n",
    "description.head()"
   ]
  },
  {
   "cell_type": "code",
   "execution_count": 130,
   "id": "710d0d2b",
   "metadata": {},
   "outputs": [],
   "source": [
    "# description.to_csv('new_desc.csv', index=False)"
   ]
  },
  {
   "cell_type": "code",
   "execution_count": 131,
   "id": "4613eccb",
   "metadata": {},
   "outputs": [
    {
     "name": "stdout",
     "output_type": "stream",
     "text": [
      "Unique values in 'Penyakit': \n",
      "['Infeksi jamur' 'Alergi' 'Penyakit GERD' 'Kolestasis kronis'\n",
      " 'Reaksi Obat' 'Penyakit tukak lambung' 'AIDS' 'Diabetes' 'Asma Bronkial'\n",
      " 'Migrain' 'Spondilosis serviks' 'Kelumpuhan (pendarahan otak)' 'Malaria'\n",
      " 'Cacar air' 'demam berdarah' 'Penyakit tipus' 'penyakit hepatitis A'\n",
      " 'Penyakit Hepatitis B' 'Hepatitis C' 'Penyakit Hepatitis D.'\n",
      " 'Hepatitis E' 'Hepatitis alkoholik' 'Tuberkulosis' 'Flu biasa'\n",
      " 'Radang paru-paru' 'Wasir dimorfik (ambeien)' 'Serangan jantung'\n",
      " 'Pembuluh mekar' 'Hipotiroidisme' 'Hipertiroidisme' 'Hipoglikemia'\n",
      " 'Osteoartritis' '(vertigo) Vertigo Posisi Paraymsal' 'Jerawat'\n",
      " 'Infeksi saluran kemih' 'Impetigo']\n",
      "\n",
      "\n",
      "Unique values in 'Keterangan': \n",
      "['Infeksi jamur adalah kondisi kulit umum yang disebabkan oleh jamur.'\n",
      " 'Alergi adalah reaksi sistem kekebalan tubuh terhadap suatu zat di lingkungan.'\n",
      " 'GERD (Gastroesophageal Reflux Disease) adalah gangguan pencernaan yang menyerang sfingter esofagus bagian bawah.'\n",
      " 'Kolestasis kronis merupakan suatu kondisi di mana aliran empedu dari hati berkurang dalam jangka waktu lama.'\n",
      " 'Reaksi Obat terjadi ketika tubuh bereaksi negatif terhadap suatu obat.'\n",
      " 'Penyakit tukak lambung melibatkan luka yang berkembang pada lapisan dalam lambung dan usus halus.'\n",
      " 'AIDS (Acquired Immunodeficiency Syndrome) adalah penyakit yang disebabkan oleh HIV yang melemahkan sistem kekebalan tubuh.'\n",
      " 'Diabetes adalah kondisi kronis yang memengaruhi cara tubuh memproses gula darah.'\n",
      " 'Asma Bronkial adalah kondisi pernapasan yang ditandai dengan peradangan pada saluran udara.'\n",
      " 'Migrain adalah jenis sakit kepala yang sering kali disertai nyeri parah dan kepekaan terhadap cahaya dan suara.'\n",
      " 'Spondylosis serviks merupakan kondisi degeneratif pada tulang belakang leher.'\n",
      " 'Kelumpuhan (pendarahan otak) mengacu pada hilangnya fungsi otot akibat pendarahan di otak.'\n",
      " 'Malaria adalah penyakit menular melalui nyamuk yang menyerang manusia dan hewan lainnya.'\n",
      " 'Cacar air adalah infeksi virus yang sangat menular dan menyebabkan ruam gatal.'\n",
      " 'Demam berdarah adalah infeksi virus yang ditularkan melalui nyamuk dan menyebabkan gejala seperti flu.'\n",
      " 'Tifus adalah infeksi bakteri yang dapat menyebabkan demam tinggi dan gejala gastrointestinal.'\n",
      " 'hepatitis A adalah penyakit hati yang disebabkan oleh virus.'\n",
      " 'Hepatitis B adalah infeksi virus yang menyerang hati.'\n",
      " 'Hepatitis C adalah infeksi virus yang menyebabkan peradangan hati.'\n",
      " 'Hepatitis D adalah penyakit hati serius yang disebabkan oleh virus hepatitis D.'\n",
      " 'Hepatitis E adalah infeksi virus yang menyebabkan peradangan hati.'\n",
      " 'Hepatitis alkoholik adalah peradangan hati akibat konsumsi alkohol.'\n",
      " 'Tuberkulosis adalah infeksi bakteri yang terutama menyerang paru-paru.'\n",
      " 'Flu biasa adalah infeksi virus pada saluran pernapasan atas.'\n",
      " 'Pneumonia adalah kondisi peradangan yang menyerang kantung udara dalam paru-paru.'\n",
      " 'Wasir dimorfik (ambeien) adalah suatu kondisi yang ditandai dengan pembengkakan pembuluh darah di rektum.'\n",
      " 'Serangan jantung adalah penurunan aliran darah ke otot jantung secara tiba-tiba dan parah.'\n",
      " 'Varises adalah pembuluh vena yang membesar dan melilit dan biasanya muncul pada kaki.'\n",
      " 'Hipotiroidisme adalah suatu kondisi dimana kelenjar tiroid tidak menghasilkan cukup hormon tiroid.'\n",
      " 'Hipertiroidisme adalah suatu kondisi ketika kelenjar tiroid menghasilkan terlalu banyak hormon tiroid.'\n",
      " 'Hipoglikemia adalah suatu kondisi yang ditandai dengan kadar gula darah yang rendah secara tidak normal.'\n",
      " 'Osteoartritis adalah penyakit sendi degeneratif yang memengaruhi tulang rawan pada sendi.'\n",
      " '(Vertigo) Vertigo Posisi Paroksismal adalah jenis pusing yang disebabkan oleh gerakan kepala tertentu.'\n",
      " 'Jerawat adalah kondisi kulit yang terjadi ketika folikel rambut tersumbat oleh minyak dan sel kulit mati.'\n",
      " 'Infeksi saluran kemih adalah infeksi pada bagian mana pun dari sistem kemih.'\n",
      " 'Impetigo adalah infeksi kulit yang sangat menular yang menyebabkan luka merah yang dapat pecah.']\n",
      "\n",
      "\n"
     ]
    }
   ],
   "source": [
    "# Print unique values for each column\n",
    "for column in description.columns:\n",
    "    print(f\"Unique values in '{column}': \")\n",
    "    print(description[column].unique())\n",
    "    print(\"\\n\")"
   ]
  },
  {
   "cell_type": "code",
   "execution_count": 132,
   "id": "d631a815",
   "metadata": {
    "execution": {
     "iopub.execute_input": "2024-09-11T19:04:25.472253Z",
     "iopub.status.busy": "2024-09-11T19:04:25.471870Z",
     "iopub.status.idle": "2024-09-11T19:04:25.477830Z",
     "shell.execute_reply": "2024-09-11T19:04:25.476941Z"
    },
    "papermill": {
     "duration": 0.024581,
     "end_time": "2024-09-11T19:04:25.479876",
     "exception": false,
     "start_time": "2024-09-11T19:04:25.455295",
     "status": "completed"
    },
    "tags": []
   },
   "outputs": [
    {
     "data": {
      "text/plain": [
       "(36, 2)"
      ]
     },
     "execution_count": 132,
     "metadata": {},
     "output_type": "execute_result"
    }
   ],
   "source": [
    "description.shape"
   ]
  },
  {
   "cell_type": "code",
   "execution_count": 133,
   "id": "468fbf97",
   "metadata": {
    "execution": {
     "iopub.execute_input": "2024-09-11T19:04:25.512607Z",
     "iopub.status.busy": "2024-09-11T19:04:25.511968Z",
     "iopub.status.idle": "2024-09-11T19:04:25.521470Z",
     "shell.execute_reply": "2024-09-11T19:04:25.520576Z"
    },
    "papermill": {
     "duration": 0.028548,
     "end_time": "2024-09-11T19:04:25.523748",
     "exception": false,
     "start_time": "2024-09-11T19:04:25.495200",
     "status": "completed"
    },
    "tags": []
   },
   "outputs": [
    {
     "name": "stdout",
     "output_type": "stream",
     "text": [
      "<class 'pandas.core.frame.DataFrame'>\n",
      "RangeIndex: 36 entries, 0 to 35\n",
      "Data columns (total 2 columns):\n",
      " #   Column      Non-Null Count  Dtype \n",
      "---  ------      --------------  ----- \n",
      " 0   Penyakit    36 non-null     object\n",
      " 1   Keterangan  36 non-null     object\n",
      "dtypes: object(2)\n",
      "memory usage: 704.0+ bytes\n"
     ]
    }
   ],
   "source": [
    "description.info()"
   ]
  },
  {
   "cell_type": "code",
   "execution_count": 134,
   "id": "3aee69c8",
   "metadata": {
    "execution": {
     "iopub.execute_input": "2024-09-11T19:04:25.557225Z",
     "iopub.status.busy": "2024-09-11T19:04:25.556298Z",
     "iopub.status.idle": "2024-09-11T19:04:25.576765Z",
     "shell.execute_reply": "2024-09-11T19:04:25.575823Z"
    },
    "papermill": {
     "duration": 0.039407,
     "end_time": "2024-09-11T19:04:25.579097",
     "exception": false,
     "start_time": "2024-09-11T19:04:25.539690",
     "status": "completed"
    },
    "tags": []
   },
   "outputs": [
    {
     "name": "stdout",
     "output_type": "stream",
     "text": [
      "            Penyakit                                         Pengobatan\n",
      "0      Infeksi jamur  KrimAntijamur,Flukonazol,Terbinafine,Klotrimaz...\n",
      "1             Alergi  Antihistamin,Dekongestan,Epinefrin,Kortikoster...\n",
      "2               GERD  InhibitorPompaProton(PPI),PemblokirH2,Antasida...\n",
      "3  Kolestasis kronis  Asamursodeoksikolat,Kolestyramine,Methotrexate...\n",
      "4        Reaksi Obat  Antihistamin,Epinefrin,Kortikosteroid,Antibiot...\n"
     ]
    }
   ],
   "source": [
    "import pandas as pd\n",
    "\n",
    "# Load the data\n",
    "medications = pd.read_csv('C:/Users/Widnyana/Downloads/NAMA SAYA/MAHASISWA_NAMA SAYA_V1/Source/Apps/ind/Data-Indo/fix_medication.csv')\n",
    "\n",
    "# Drop the 'Unnamed: 0' column\n",
    "medications.drop(columns=['Unnamed: 0'], inplace=True)\n",
    "\n",
    "# Display the first few rows to confirm the change\n",
    "print(medications.head())\n"
   ]
  },
  {
   "cell_type": "code",
   "execution_count": 135,
   "id": "fb61d4e4",
   "metadata": {},
   "outputs": [],
   "source": [
    "# # Remove unwanted characters from the Pengobatan column\n",
    "# medications['Pengobatan'] = medications['Pengobatan'].str.replace(r\"[\\[\\]'\\\" ]\", \"\", regex=True)\n",
    "\n",
    "# # Display the first few rows to confirm the changes\n",
    "# print(medications.head())"
   ]
  },
  {
   "cell_type": "code",
   "execution_count": 136,
   "id": "04e4bbc6",
   "metadata": {},
   "outputs": [],
   "source": [
    "# medications.to_csv('fix_medication.csv')"
   ]
  },
  {
   "cell_type": "code",
   "execution_count": 137,
   "id": "8fd89436",
   "metadata": {},
   "outputs": [],
   "source": [
    "# # Install googletrans if not already installed\n",
    "# # !pip install googletrans==4.0.0-rc1\n",
    "\n",
    "# import pandas as pd\n",
    "# from googletrans import Translator\n",
    "\n",
    "# # Load the medications CSV file\n",
    "# file_path = 'C:/Users/Widnyana/Downloads/NAMA SAYA/MAHASISWA_NAMA SAYA_V1/Source/Apps/ind/Data-Indo/medications copy.csv'\n",
    "# medications = pd.read_csv(file_path)\n",
    "\n",
    "# # Initialize the translator\n",
    "# translator = Translator()\n",
    "\n",
    "# # Function to translate each cell in the DataFrame\n",
    "# def translate_column(column):\n",
    "#     return column.apply(lambda x: translator.translate(x, src='en', dest='id').text if isinstance(x, str) else x)\n",
    "\n",
    "# # Display original data\n",
    "# print(\"Original Data:\")\n",
    "# display(medications.head())\n",
    "\n",
    "# # Specify columns to translate\n",
    "# columns_to_translate = medications.columns  # You can select specific columns if needed\n",
    "\n",
    "# # Translate each specified column\n",
    "# for col in columns_to_translate:\n",
    "#     medications[col] = translate_column(medications[col])\n",
    "\n",
    "# # Display translated data\n",
    "# print(\"Translated Data:\")\n",
    "# display(medications.head())\n",
    "\n",
    "# # Save the translated DataFrame to a new CSV file\n",
    "# output_file_path = 'C:/Users/Widnyana/Downloads/NAMA SAYA/MAHASISWA_NAMA SAYA_V1/Source/Apps/ind/Data-Indo/translated_medications.csv'\n",
    "# medications.to_csv(output_file_path, index=False)\n",
    "# print(f\"Translated data saved to {output_file_path}\")\n"
   ]
  },
  {
   "cell_type": "code",
   "execution_count": null,
   "id": "f76b50d4",
   "metadata": {},
   "outputs": [],
   "source": []
  },
  {
   "cell_type": "code",
   "execution_count": null,
   "id": "1447d7e9",
   "metadata": {},
   "outputs": [],
   "source": []
  },
  {
   "cell_type": "code",
   "execution_count": null,
   "id": "47043858",
   "metadata": {},
   "outputs": [],
   "source": []
  },
  {
   "cell_type": "code",
   "execution_count": 138,
   "id": "546c4bd3",
   "metadata": {
    "execution": {
     "iopub.execute_input": "2024-09-11T19:04:25.613886Z",
     "iopub.status.busy": "2024-09-11T19:04:25.613470Z",
     "iopub.status.idle": "2024-09-11T19:04:25.619788Z",
     "shell.execute_reply": "2024-09-11T19:04:25.618806Z"
    },
    "papermill": {
     "duration": 0.025461,
     "end_time": "2024-09-11T19:04:25.621887",
     "exception": false,
     "start_time": "2024-09-11T19:04:25.596426",
     "status": "completed"
    },
    "tags": []
   },
   "outputs": [
    {
     "data": {
      "text/plain": [
       "(41, 2)"
      ]
     },
     "execution_count": 138,
     "metadata": {},
     "output_type": "execute_result"
    }
   ],
   "source": [
    "medications.shape"
   ]
  },
  {
   "cell_type": "code",
   "execution_count": 139,
   "id": "19935f45",
   "metadata": {
    "execution": {
     "iopub.execute_input": "2024-09-11T19:04:25.655411Z",
     "iopub.status.busy": "2024-09-11T19:04:25.655019Z",
     "iopub.status.idle": "2024-09-11T19:04:25.664987Z",
     "shell.execute_reply": "2024-09-11T19:04:25.664048Z"
    },
    "papermill": {
     "duration": 0.030458,
     "end_time": "2024-09-11T19:04:25.668041",
     "exception": false,
     "start_time": "2024-09-11T19:04:25.637583",
     "status": "completed"
    },
    "tags": []
   },
   "outputs": [
    {
     "name": "stdout",
     "output_type": "stream",
     "text": [
      "<class 'pandas.core.frame.DataFrame'>\n",
      "RangeIndex: 41 entries, 0 to 40\n",
      "Data columns (total 2 columns):\n",
      " #   Column      Non-Null Count  Dtype \n",
      "---  ------      --------------  ----- \n",
      " 0   Penyakit    41 non-null     object\n",
      " 1   Pengobatan  41 non-null     object\n",
      "dtypes: object(2)\n",
      "memory usage: 784.0+ bytes\n"
     ]
    }
   ],
   "source": [
    "medications.info()"
   ]
  },
  {
   "cell_type": "code",
   "execution_count": 140,
   "id": "42d4a7f6",
   "metadata": {
    "execution": {
     "iopub.execute_input": "2024-09-11T19:04:25.703618Z",
     "iopub.status.busy": "2024-09-11T19:04:25.703228Z",
     "iopub.status.idle": "2024-09-11T19:04:25.737023Z",
     "shell.execute_reply": "2024-09-11T19:04:25.735980Z"
    },
    "papermill": {
     "duration": 0.05353,
     "end_time": "2024-09-11T19:04:25.739396",
     "exception": false,
     "start_time": "2024-09-11T19:04:25.685866",
     "status": "completed"
    },
    "tags": []
   },
   "outputs": [
    {
     "data": {
      "text/html": [
       "<div>\n",
       "<style scoped>\n",
       "    .dataframe tbody tr th:only-of-type {\n",
       "        vertical-align: middle;\n",
       "    }\n",
       "\n",
       "    .dataframe tbody tr th {\n",
       "        vertical-align: top;\n",
       "    }\n",
       "\n",
       "    .dataframe thead th {\n",
       "        text-align: right;\n",
       "    }\n",
       "</style>\n",
       "<table border=\"1\" class=\"dataframe\">\n",
       "  <thead>\n",
       "    <tr style=\"text-align: right;\">\n",
       "      <th></th>\n",
       "      <th>Penyakit</th>\n",
       "      <th>Gejala_1</th>\n",
       "      <th>Gejala_2</th>\n",
       "      <th>Gejala_3</th>\n",
       "      <th>Gejala_4</th>\n",
       "    </tr>\n",
       "  </thead>\n",
       "  <tbody>\n",
       "    <tr>\n",
       "      <th>0</th>\n",
       "      <td>Infeksi jamur</td>\n",
       "      <td>gatal</td>\n",
       "      <td>ruam kulit</td>\n",
       "      <td>erupsi_kulit_nodal</td>\n",
       "      <td>bercak diskromik</td>\n",
       "    </tr>\n",
       "    <tr>\n",
       "      <th>1</th>\n",
       "      <td>Infeksi jamur</td>\n",
       "      <td>ruam kulit</td>\n",
       "      <td>erupsi_kulit_nodal</td>\n",
       "      <td>bercak diskromik</td>\n",
       "      <td>kemerahan</td>\n",
       "    </tr>\n",
       "    <tr>\n",
       "      <th>2</th>\n",
       "      <td>Infeksi jamur</td>\n",
       "      <td>gatal</td>\n",
       "      <td>erupsi_kulit_nodal</td>\n",
       "      <td>bercak diskromik</td>\n",
       "      <td>kemerahan</td>\n",
       "    </tr>\n",
       "    <tr>\n",
       "      <th>3</th>\n",
       "      <td>Infeksi jamur</td>\n",
       "      <td>gatal</td>\n",
       "      <td>ruam kulit</td>\n",
       "      <td>bercak diskromik</td>\n",
       "      <td>perih</td>\n",
       "    </tr>\n",
       "    <tr>\n",
       "      <th>4</th>\n",
       "      <td>Infeksi jamur</td>\n",
       "      <td>gatal</td>\n",
       "      <td>ruam kulit</td>\n",
       "      <td>erupsi_kulit_nodal</td>\n",
       "      <td>nyeri</td>\n",
       "    </tr>\n",
       "  </tbody>\n",
       "</table>\n",
       "</div>"
      ],
      "text/plain": [
       "        Penyakit    Gejala_1            Gejala_2            Gejala_3  \\\n",
       "0  Infeksi jamur       gatal          ruam kulit  erupsi_kulit_nodal   \n",
       "1  Infeksi jamur  ruam kulit  erupsi_kulit_nodal    bercak diskromik   \n",
       "2  Infeksi jamur       gatal  erupsi_kulit_nodal    bercak diskromik   \n",
       "3  Infeksi jamur       gatal          ruam kulit    bercak diskromik   \n",
       "4  Infeksi jamur       gatal          ruam kulit  erupsi_kulit_nodal   \n",
       "\n",
       "           Gejala_4  \n",
       "0  bercak diskromik  \n",
       "1         kemerahan  \n",
       "2         kemerahan  \n",
       "3             perih  \n",
       "4             nyeri  "
      ]
     },
     "execution_count": 140,
     "metadata": {},
     "output_type": "execute_result"
    }
   ],
   "source": [
    "symtoms_df = pd.read_csv('C:/Users/Widnyana/Downloads/NAMA SAYA/MAHASISWA_NAMA SAYA_V1/Source/Apps/ind/Data-Indo/symtoms.csv')\n",
    "symtoms_df.drop('Unnamed: 0', axis=1, inplace=True)\n",
    "symtoms_df.head()\n"
   ]
  },
  {
   "cell_type": "code",
   "execution_count": 141,
   "id": "b68e7d16",
   "metadata": {},
   "outputs": [
    {
     "name": "stdout",
     "output_type": "stream",
     "text": [
      "Indices with NaN values: []\n"
     ]
    }
   ],
   "source": [
    "nan_indices = symtoms_df[symtoms_df.isna().any(axis=1)].index.tolist()\n",
    "print(\"Indices with NaN values:\", nan_indices)\n"
   ]
  },
  {
   "cell_type": "code",
   "execution_count": 142,
   "id": "b59106fc",
   "metadata": {},
   "outputs": [
    {
     "data": {
      "text/plain": [
       "Penyakit    0\n",
       "Gejala_1    0\n",
       "Gejala_2    0\n",
       "Gejala_3    0\n",
       "Gejala_4    0\n",
       "dtype: int64"
      ]
     },
     "execution_count": 142,
     "metadata": {},
     "output_type": "execute_result"
    }
   ],
   "source": [
    "nan_count = symtoms_df.isna().sum()\n",
    "nan_count\n"
   ]
  },
  {
   "cell_type": "code",
   "execution_count": 143,
   "id": "c9d7767f",
   "metadata": {},
   "outputs": [
    {
     "name": "stdout",
     "output_type": "stream",
     "text": [
      "Empty DataFrame\n",
      "Columns: [Penyakit, Gejala_1, Gejala_2, Gejala_3, Gejala_4]\n",
      "Index: []\n"
     ]
    }
   ],
   "source": [
    "# Displaying one row with NaN values\n",
    "row_with_nan1 = symtoms_df[symtoms_df.isna().any(axis=1)]\n",
    "print(row_with_nan1)\n"
   ]
  },
  {
   "cell_type": "code",
   "execution_count": 144,
   "id": "5d2ae5a4",
   "metadata": {
    "execution": {
     "iopub.execute_input": "2024-09-11T19:04:25.818268Z",
     "iopub.status.busy": "2024-09-11T19:04:25.817940Z",
     "iopub.status.idle": "2024-09-11T19:04:25.830204Z",
     "shell.execute_reply": "2024-09-11T19:04:25.829263Z"
    },
    "papermill": {
     "duration": 0.032294,
     "end_time": "2024-09-11T19:04:25.832981",
     "exception": false,
     "start_time": "2024-09-11T19:04:25.800687",
     "status": "completed"
    },
    "tags": []
   },
   "outputs": [
    {
     "name": "stdout",
     "output_type": "stream",
     "text": [
      "<class 'pandas.core.frame.DataFrame'>\n",
      "RangeIndex: 4920 entries, 0 to 4919\n",
      "Data columns (total 5 columns):\n",
      " #   Column    Non-Null Count  Dtype \n",
      "---  ------    --------------  ----- \n",
      " 0   Penyakit  4920 non-null   object\n",
      " 1   Gejala_1  4920 non-null   object\n",
      " 2   Gejala_2  4920 non-null   object\n",
      " 3   Gejala_3  4920 non-null   object\n",
      " 4   Gejala_4  4920 non-null   object\n",
      "dtypes: object(5)\n",
      "memory usage: 192.3+ KB\n"
     ]
    }
   ],
   "source": [
    "symtoms_df.info()"
   ]
  },
  {
   "cell_type": "code",
   "execution_count": 145,
   "id": "8bbca085",
   "metadata": {
    "execution": {
     "iopub.execute_input": "2024-09-11T19:04:25.869101Z",
     "iopub.status.busy": "2024-09-11T19:04:25.868424Z",
     "iopub.status.idle": "2024-09-11T19:04:25.887362Z",
     "shell.execute_reply": "2024-09-11T19:04:25.886397Z"
    },
    "papermill": {
     "duration": 0.039042,
     "end_time": "2024-09-11T19:04:25.889647",
     "exception": false,
     "start_time": "2024-09-11T19:04:25.850605",
     "status": "completed"
    },
    "tags": []
   },
   "outputs": [
    {
     "data": {
      "text/html": [
       "<div>\n",
       "<style scoped>\n",
       "    .dataframe tbody tr th:only-of-type {\n",
       "        vertical-align: middle;\n",
       "    }\n",
       "\n",
       "    .dataframe tbody tr th {\n",
       "        vertical-align: top;\n",
       "    }\n",
       "\n",
       "    .dataframe thead th {\n",
       "        text-align: right;\n",
       "    }\n",
       "</style>\n",
       "<table border=\"1\" class=\"dataframe\">\n",
       "  <thead>\n",
       "    <tr style=\"text-align: right;\">\n",
       "      <th></th>\n",
       "      <th>Gejala</th>\n",
       "      <th>berat</th>\n",
       "    </tr>\n",
       "  </thead>\n",
       "  <tbody>\n",
       "    <tr>\n",
       "      <th>0</th>\n",
       "      <td>gatal</td>\n",
       "      <td>1</td>\n",
       "    </tr>\n",
       "    <tr>\n",
       "      <th>1</th>\n",
       "      <td>ruam kulit</td>\n",
       "      <td>3</td>\n",
       "    </tr>\n",
       "    <tr>\n",
       "      <th>2</th>\n",
       "      <td>erupsi_kulit_nodal</td>\n",
       "      <td>4</td>\n",
       "    </tr>\n",
       "    <tr>\n",
       "      <th>3</th>\n",
       "      <td>bersin_terus_menerus</td>\n",
       "      <td>4</td>\n",
       "    </tr>\n",
       "    <tr>\n",
       "      <th>4</th>\n",
       "      <td>gemetaran</td>\n",
       "      <td>5</td>\n",
       "    </tr>\n",
       "  </tbody>\n",
       "</table>\n",
       "</div>"
      ],
      "text/plain": [
       "                 Gejala  berat\n",
       "0                 gatal      1\n",
       "1            ruam kulit      3\n",
       "2    erupsi_kulit_nodal      4\n",
       "3  bersin_terus_menerus      4\n",
       "4             gemetaran      5"
      ]
     },
     "execution_count": 145,
     "metadata": {},
     "output_type": "execute_result"
    }
   ],
   "source": [
    "symptom_severity = pd.read_csv('C:/Users/Widnyana/Downloads/NAMA SAYA/MAHASISWA_NAMA SAYA_V1/Source/indo/Symptom-severity.csv')\n",
    "symptom_severity.head()"
   ]
  },
  {
   "cell_type": "code",
   "execution_count": 146,
   "id": "7e623683",
   "metadata": {},
   "outputs": [
    {
     "data": {
      "text/plain": [
       "Gejala    0\n",
       "berat     0\n",
       "dtype: int64"
      ]
     },
     "execution_count": 146,
     "metadata": {},
     "output_type": "execute_result"
    }
   ],
   "source": [
    "# Counting the number of NaN values in each column\n",
    "nan_count1 = symptom_severity.isna().sum()\n",
    "nan_count1\n"
   ]
  },
  {
   "cell_type": "code",
   "execution_count": 147,
   "id": "2c00b38c",
   "metadata": {
    "execution": {
     "iopub.execute_input": "2024-09-11T19:04:25.926137Z",
     "iopub.status.busy": "2024-09-11T19:04:25.925742Z",
     "iopub.status.idle": "2024-09-11T19:04:25.931888Z",
     "shell.execute_reply": "2024-09-11T19:04:25.931043Z"
    },
    "papermill": {
     "duration": 0.026352,
     "end_time": "2024-09-11T19:04:25.933867",
     "exception": false,
     "start_time": "2024-09-11T19:04:25.907515",
     "status": "completed"
    },
    "tags": []
   },
   "outputs": [
    {
     "data": {
      "text/plain": [
       "(133, 2)"
      ]
     },
     "execution_count": 147,
     "metadata": {},
     "output_type": "execute_result"
    }
   ],
   "source": [
    "symptom_severity.shape"
   ]
  },
  {
   "cell_type": "code",
   "execution_count": 148,
   "id": "f4e8c76d",
   "metadata": {
    "execution": {
     "iopub.execute_input": "2024-09-11T19:04:25.968573Z",
     "iopub.status.busy": "2024-09-11T19:04:25.968161Z",
     "iopub.status.idle": "2024-09-11T19:04:25.978475Z",
     "shell.execute_reply": "2024-09-11T19:04:25.977264Z"
    },
    "papermill": {
     "duration": 0.02983,
     "end_time": "2024-09-11T19:04:25.980451",
     "exception": false,
     "start_time": "2024-09-11T19:04:25.950621",
     "status": "completed"
    },
    "tags": []
   },
   "outputs": [
    {
     "name": "stdout",
     "output_type": "stream",
     "text": [
      "<class 'pandas.core.frame.DataFrame'>\n",
      "RangeIndex: 133 entries, 0 to 132\n",
      "Data columns (total 2 columns):\n",
      " #   Column  Non-Null Count  Dtype \n",
      "---  ------  --------------  ----- \n",
      " 0   Gejala  133 non-null    object\n",
      " 1   berat   133 non-null    int64 \n",
      "dtypes: int64(1), object(1)\n",
      "memory usage: 2.2+ KB\n"
     ]
    }
   ],
   "source": [
    "symptom_severity.info()"
   ]
  },
  {
   "cell_type": "code",
   "execution_count": 149,
   "id": "3d70d201",
   "metadata": {
    "execution": {
     "iopub.execute_input": "2024-09-11T19:04:26.015574Z",
     "iopub.status.busy": "2024-09-11T19:04:26.015188Z",
     "iopub.status.idle": "2024-09-11T19:04:26.037627Z",
     "shell.execute_reply": "2024-09-11T19:04:26.036738Z"
    },
    "papermill": {
     "duration": 0.042605,
     "end_time": "2024-09-11T19:04:26.039785",
     "exception": false,
     "start_time": "2024-09-11T19:04:25.997180",
     "status": "completed"
    },
    "tags": []
   },
   "outputs": [
    {
     "data": {
      "text/html": [
       "<div>\n",
       "<style scoped>\n",
       "    .dataframe tbody tr th:only-of-type {\n",
       "        vertical-align: middle;\n",
       "    }\n",
       "\n",
       "    .dataframe tbody tr th {\n",
       "        vertical-align: top;\n",
       "    }\n",
       "\n",
       "    .dataframe thead th {\n",
       "        text-align: right;\n",
       "    }\n",
       "</style>\n",
       "<table border=\"1\" class=\"dataframe\">\n",
       "  <thead>\n",
       "    <tr style=\"text-align: right;\">\n",
       "      <th></th>\n",
       "      <th>Penyakit</th>\n",
       "      <th>Tindakan pencegahan_1</th>\n",
       "      <th>Tindakan pencegahan_2</th>\n",
       "      <th>Tindakan pencegahan_3</th>\n",
       "      <th>Tindakan pencegahan_4</th>\n",
       "    </tr>\n",
       "  </thead>\n",
       "  <tbody>\n",
       "    <tr>\n",
       "      <th>0</th>\n",
       "      <td>Reaksi Obat</td>\n",
       "      <td>hentikan iritasi</td>\n",
       "      <td>konsultasikan ke rumah sakit terdekat</td>\n",
       "      <td>berhenti minum obat</td>\n",
       "      <td>menindaklanjuti</td>\n",
       "    </tr>\n",
       "    <tr>\n",
       "      <th>1</th>\n",
       "      <td>Malaria</td>\n",
       "      <td>Konsultasikan ke rumah sakit terdekat</td>\n",
       "      <td>hindari makanan berminyak</td>\n",
       "      <td>hindari makanan non-sayur</td>\n",
       "      <td>mengusir nyamuk</td>\n",
       "    </tr>\n",
       "    <tr>\n",
       "      <th>2</th>\n",
       "      <td>Alergi</td>\n",
       "      <td>oleskan calamine</td>\n",
       "      <td>tutupi area tersebut dengan perban</td>\n",
       "      <td>Gunakan es untuk mengompres gatal</td>\n",
       "      <td>Gunakan Produk Anti-Alergi di Rumah</td>\n",
       "    </tr>\n",
       "    <tr>\n",
       "      <th>3</th>\n",
       "      <td>Hipotiroidisme</td>\n",
       "      <td>mengurangi stres</td>\n",
       "      <td>latihan</td>\n",
       "      <td>makan sehat</td>\n",
       "      <td>tidur yang cukup</td>\n",
       "    </tr>\n",
       "    <tr>\n",
       "      <th>4</th>\n",
       "      <td>Psoriasis</td>\n",
       "      <td>cuci tangan dengan air sabun hangat</td>\n",
       "      <td>hentikan pendarahan dengan menggunakan tekanan</td>\n",
       "      <td>konsultasi dokter</td>\n",
       "      <td>mandi garam</td>\n",
       "    </tr>\n",
       "  </tbody>\n",
       "</table>\n",
       "</div>"
      ],
      "text/plain": [
       "         Penyakit                  Tindakan pencegahan_1  \\\n",
       "0     Reaksi Obat                       hentikan iritasi   \n",
       "1         Malaria  Konsultasikan ke rumah sakit terdekat   \n",
       "2          Alergi                       oleskan calamine   \n",
       "3  Hipotiroidisme                       mengurangi stres   \n",
       "4       Psoriasis    cuci tangan dengan air sabun hangat   \n",
       "\n",
       "                            Tindakan pencegahan_2  \\\n",
       "0           konsultasikan ke rumah sakit terdekat   \n",
       "1                       hindari makanan berminyak   \n",
       "2              tutupi area tersebut dengan perban   \n",
       "3                                         latihan   \n",
       "4  hentikan pendarahan dengan menggunakan tekanan   \n",
       "\n",
       "               Tindakan pencegahan_3                Tindakan pencegahan_4  \n",
       "0                berhenti minum obat                      menindaklanjuti  \n",
       "1          hindari makanan non-sayur                      mengusir nyamuk  \n",
       "2  Gunakan es untuk mengompres gatal  Gunakan Produk Anti-Alergi di Rumah  \n",
       "3                        makan sehat                     tidur yang cukup  \n",
       "4                  konsultasi dokter                          mandi garam  "
      ]
     },
     "execution_count": 149,
     "metadata": {},
     "output_type": "execute_result"
    }
   ],
   "source": [
    "precautions_df = pd.read_csv('C:/Users/Widnyana/Downloads/NAMA SAYA/MAHASISWA_NAMA SAYA_V1/Source/Apps/ind/Data-Indo/new_pre.csv')\n",
    "# precautions_df.drop('Unnamed: 0',axis=1,inplace=True)\n",
    "precautions_df.head()"
   ]
  },
  {
   "cell_type": "code",
   "execution_count": 150,
   "id": "2634dbc2",
   "metadata": {
    "execution": {
     "iopub.execute_input": "2024-09-11T19:04:26.075593Z",
     "iopub.status.busy": "2024-09-11T19:04:26.075199Z",
     "iopub.status.idle": "2024-09-11T19:04:26.081056Z",
     "shell.execute_reply": "2024-09-11T19:04:26.080226Z"
    },
    "papermill": {
     "duration": 0.026424,
     "end_time": "2024-09-11T19:04:26.083142",
     "exception": false,
     "start_time": "2024-09-11T19:04:26.056718",
     "status": "completed"
    },
    "tags": []
   },
   "outputs": [
    {
     "data": {
      "text/plain": [
       "(41, 5)"
      ]
     },
     "execution_count": 150,
     "metadata": {},
     "output_type": "execute_result"
    }
   ],
   "source": [
    "precautions_df.shape"
   ]
  },
  {
   "cell_type": "code",
   "execution_count": 151,
   "id": "f9187198",
   "metadata": {
    "execution": {
     "iopub.execute_input": "2024-09-11T19:04:26.118922Z",
     "iopub.status.busy": "2024-09-11T19:04:26.118521Z",
     "iopub.status.idle": "2024-09-11T19:04:26.129245Z",
     "shell.execute_reply": "2024-09-11T19:04:26.128103Z"
    },
    "papermill": {
     "duration": 0.03146,
     "end_time": "2024-09-11T19:04:26.131531",
     "exception": false,
     "start_time": "2024-09-11T19:04:26.100071",
     "status": "completed"
    },
    "tags": []
   },
   "outputs": [
    {
     "name": "stdout",
     "output_type": "stream",
     "text": [
      "<class 'pandas.core.frame.DataFrame'>\n",
      "RangeIndex: 41 entries, 0 to 40\n",
      "Data columns (total 5 columns):\n",
      " #   Column                 Non-Null Count  Dtype \n",
      "---  ------                 --------------  ----- \n",
      " 0   Penyakit               41 non-null     object\n",
      " 1   Tindakan pencegahan_1  41 non-null     object\n",
      " 2   Tindakan pencegahan_2  41 non-null     object\n",
      " 3   Tindakan pencegahan_3  41 non-null     object\n",
      " 4   Tindakan pencegahan_4  41 non-null     object\n",
      "dtypes: object(5)\n",
      "memory usage: 1.7+ KB\n"
     ]
    }
   ],
   "source": [
    "precautions_df.info()"
   ]
  },
  {
   "cell_type": "code",
   "execution_count": 152,
   "id": "0764e31c",
   "metadata": {},
   "outputs": [
    {
     "data": {
      "text/plain": [
       "Penyakit                 0\n",
       "Tindakan pencegahan_1    0\n",
       "Tindakan pencegahan_2    0\n",
       "Tindakan pencegahan_3    0\n",
       "Tindakan pencegahan_4    0\n",
       "dtype: int64"
      ]
     },
     "execution_count": 152,
     "metadata": {},
     "output_type": "execute_result"
    }
   ],
   "source": [
    "nan_count = precautions_df.isna().sum()\n",
    "nan_count\n"
   ]
  },
  {
   "cell_type": "code",
   "execution_count": 153,
   "id": "23513057",
   "metadata": {},
   "outputs": [
    {
     "name": "stdout",
     "output_type": "stream",
     "text": [
      "Indices with NaN values: []\n"
     ]
    }
   ],
   "source": [
    "nan_indices = precautions_df[precautions_df.isna().any(axis=1)].index.tolist()\n",
    "print(\"Indices with NaN values:\", nan_indices)\n"
   ]
  },
  {
   "cell_type": "code",
   "execution_count": 154,
   "id": "28cfb7d4",
   "metadata": {},
   "outputs": [
    {
     "name": "stdout",
     "output_type": "stream",
     "text": [
      "Empty DataFrame\n",
      "Columns: [Penyakit, Tindakan pencegahan_1, Tindakan pencegahan_2, Tindakan pencegahan_3, Tindakan pencegahan_4]\n",
      "Index: []\n"
     ]
    }
   ],
   "source": [
    "# Displaying one row with NaN values\n",
    "row_with_nan = precautions_df[precautions_df.isna().any(axis=1)]\n",
    "print(row_with_nan)\n"
   ]
  },
  {
   "cell_type": "code",
   "execution_count": 155,
   "id": "edbedeb9",
   "metadata": {
    "execution": {
     "iopub.execute_input": "2024-09-11T19:04:26.168636Z",
     "iopub.status.busy": "2024-09-11T19:04:26.168285Z",
     "iopub.status.idle": "2024-09-11T19:04:26.186179Z",
     "shell.execute_reply": "2024-09-11T19:04:26.185214Z"
    },
    "papermill": {
     "duration": 0.038439,
     "end_time": "2024-09-11T19:04:26.188523",
     "exception": false,
     "start_time": "2024-09-11T19:04:26.150084",
     "status": "completed"
    },
    "tags": []
   },
   "outputs": [
    {
     "data": {
      "text/html": [
       "<div>\n",
       "<style scoped>\n",
       "    .dataframe tbody tr th:only-of-type {\n",
       "        vertical-align: middle;\n",
       "    }\n",
       "\n",
       "    .dataframe tbody tr th {\n",
       "        vertical-align: top;\n",
       "    }\n",
       "\n",
       "    .dataframe thead th {\n",
       "        text-align: right;\n",
       "    }\n",
       "</style>\n",
       "<table border=\"1\" class=\"dataframe\">\n",
       "  <thead>\n",
       "    <tr style=\"text-align: right;\">\n",
       "      <th></th>\n",
       "      <th>Penyakit</th>\n",
       "      <th>Diet</th>\n",
       "    </tr>\n",
       "  </thead>\n",
       "  <tbody>\n",
       "    <tr>\n",
       "      <th>0</th>\n",
       "      <td>Infeksi jamur</td>\n",
       "      <td>DietAntijamur,Probiotik,BawangPutih,MinyakKela...</td>\n",
       "    </tr>\n",
       "    <tr>\n",
       "      <th>1</th>\n",
       "      <td>Alergi</td>\n",
       "      <td>DietEliminasi,MakanankayaOmega-3,MakanankayaVi...</td>\n",
       "    </tr>\n",
       "    <tr>\n",
       "      <th>2</th>\n",
       "      <td>Penyakit GERD</td>\n",
       "      <td>DietRendahAsam,MakananKayaSerat,Jahe,AkarManis...</td>\n",
       "    </tr>\n",
       "    <tr>\n",
       "      <th>3</th>\n",
       "      <td>Kolestasis kronis</td>\n",
       "      <td>DietRendahLemak,DietTinggiSerat,ProteinRendahL...</td>\n",
       "    </tr>\n",
       "    <tr>\n",
       "      <th>4</th>\n",
       "      <td>Reaksi Obat</td>\n",
       "      <td>DietAntihistamin,MakanankayaOmega-3,Makanankay...</td>\n",
       "    </tr>\n",
       "  </tbody>\n",
       "</table>\n",
       "</div>"
      ],
      "text/plain": [
       "            Penyakit                                               Diet\n",
       "0      Infeksi jamur  DietAntijamur,Probiotik,BawangPutih,MinyakKela...\n",
       "1             Alergi  DietEliminasi,MakanankayaOmega-3,MakanankayaVi...\n",
       "2      Penyakit GERD  DietRendahAsam,MakananKayaSerat,Jahe,AkarManis...\n",
       "3  Kolestasis kronis  DietRendahLemak,DietTinggiSerat,ProteinRendahL...\n",
       "4        Reaksi Obat  DietAntihistamin,MakanankayaOmega-3,Makanankay..."
      ]
     },
     "execution_count": 155,
     "metadata": {},
     "output_type": "execute_result"
    }
   ],
   "source": [
    "diets = pd.read_csv('C:/Users/Widnyana/Downloads/NAMA SAYA/MAHASISWA_NAMA SAYA_V1/Source/Apps/ind/Data-Indo/fix_diets.csv')\n",
    "# Drop the 'Unnamed: 0' column\n",
    "diets.drop(columns=['Unnamed: 0'], inplace=True)\n",
    "diets.head()"
   ]
  },
  {
   "cell_type": "code",
   "execution_count": 156,
   "id": "ea7c605c",
   "metadata": {},
   "outputs": [],
   "source": [
    "# # Remove unwanted characters from the Pengobatan column\n",
    "# diets['Diet'] = diets['Diet'].str.replace(r\"[\\[\\]'\\\" ]\", \"\", regex=True)\n",
    "\n",
    "# # Display the first few rows to confirm the changes\n",
    "# print(diets.head())"
   ]
  },
  {
   "cell_type": "code",
   "execution_count": 157,
   "id": "f71aa3b4",
   "metadata": {},
   "outputs": [],
   "source": [
    "# diets.to_csv('fix_diets.csv')"
   ]
  },
  {
   "cell_type": "code",
   "execution_count": 158,
   "id": "89b68c9e",
   "metadata": {
    "execution": {
     "iopub.execute_input": "2024-09-11T19:04:26.226675Z",
     "iopub.status.busy": "2024-09-11T19:04:26.226315Z",
     "iopub.status.idle": "2024-09-11T19:04:26.232706Z",
     "shell.execute_reply": "2024-09-11T19:04:26.231717Z"
    },
    "papermill": {
     "duration": 0.027003,
     "end_time": "2024-09-11T19:04:26.234655",
     "exception": false,
     "start_time": "2024-09-11T19:04:26.207652",
     "status": "completed"
    },
    "tags": []
   },
   "outputs": [
    {
     "data": {
      "text/plain": [
       "(41, 2)"
      ]
     },
     "execution_count": 158,
     "metadata": {},
     "output_type": "execute_result"
    }
   ],
   "source": [
    "diets.shape"
   ]
  },
  {
   "cell_type": "code",
   "execution_count": 159,
   "id": "f9d5979e",
   "metadata": {},
   "outputs": [
    {
     "data": {
      "text/plain": [
       "Penyakit    0\n",
       "Diet        0\n",
       "dtype: int64"
      ]
     },
     "execution_count": 159,
     "metadata": {},
     "output_type": "execute_result"
    }
   ],
   "source": [
    "nan_count = diets.isna().sum()\n",
    "nan_count\n"
   ]
  },
  {
   "cell_type": "code",
   "execution_count": 160,
   "id": "508603dd",
   "metadata": {
    "execution": {
     "iopub.execute_input": "2024-09-11T19:04:26.270873Z",
     "iopub.status.busy": "2024-09-11T19:04:26.270480Z",
     "iopub.status.idle": "2024-09-11T19:04:26.279822Z",
     "shell.execute_reply": "2024-09-11T19:04:26.278825Z"
    },
    "papermill": {
     "duration": 0.030245,
     "end_time": "2024-09-11T19:04:26.282296",
     "exception": false,
     "start_time": "2024-09-11T19:04:26.252051",
     "status": "completed"
    },
    "tags": []
   },
   "outputs": [
    {
     "name": "stdout",
     "output_type": "stream",
     "text": [
      "<class 'pandas.core.frame.DataFrame'>\n",
      "RangeIndex: 41 entries, 0 to 40\n",
      "Data columns (total 2 columns):\n",
      " #   Column    Non-Null Count  Dtype \n",
      "---  ------    --------------  ----- \n",
      " 0   Penyakit  41 non-null     object\n",
      " 1   Diet      41 non-null     object\n",
      "dtypes: object(2)\n",
      "memory usage: 784.0+ bytes\n"
     ]
    }
   ],
   "source": [
    "diets.info()"
   ]
  },
  {
   "cell_type": "code",
   "execution_count": 161,
   "id": "31da9afb",
   "metadata": {
    "execution": {
     "iopub.execute_input": "2024-09-11T19:04:26.320492Z",
     "iopub.status.busy": "2024-09-11T19:04:26.319752Z",
     "iopub.status.idle": "2024-09-11T19:04:26.340041Z",
     "shell.execute_reply": "2024-09-11T19:04:26.338090Z"
    },
    "papermill": {
     "duration": 0.042279,
     "end_time": "2024-09-11T19:04:26.343221",
     "exception": false,
     "start_time": "2024-09-11T19:04:26.300942",
     "status": "completed"
    },
    "tags": []
   },
   "outputs": [
    {
     "data": {
      "text/html": [
       "<div>\n",
       "<style scoped>\n",
       "    .dataframe tbody tr th:only-of-type {\n",
       "        vertical-align: middle;\n",
       "    }\n",
       "\n",
       "    .dataframe tbody tr th {\n",
       "        vertical-align: top;\n",
       "    }\n",
       "\n",
       "    .dataframe thead th {\n",
       "        text-align: right;\n",
       "    }\n",
       "</style>\n",
       "<table border=\"1\" class=\"dataframe\">\n",
       "  <thead>\n",
       "    <tr style=\"text-align: right;\">\n",
       "      <th></th>\n",
       "      <th>penyakit</th>\n",
       "      <th>olahraga</th>\n",
       "    </tr>\n",
       "  </thead>\n",
       "  <tbody>\n",
       "    <tr>\n",
       "      <th>0</th>\n",
       "      <td>Infeksi jamur</td>\n",
       "      <td>Hindari makanan manis</td>\n",
       "    </tr>\n",
       "    <tr>\n",
       "      <th>1</th>\n",
       "      <td>Infeksi jamur</td>\n",
       "      <td>Mengonsumsi probiotik</td>\n",
       "    </tr>\n",
       "    <tr>\n",
       "      <th>2</th>\n",
       "      <td>Infeksi jamur</td>\n",
       "      <td>Tingkatkan asupan bawang putih</td>\n",
       "    </tr>\n",
       "    <tr>\n",
       "      <th>3</th>\n",
       "      <td>Infeksi jamur</td>\n",
       "      <td>Sertakan yogurt dalam diet Anda</td>\n",
       "    </tr>\n",
       "    <tr>\n",
       "      <th>4</th>\n",
       "      <td>Infeksi jamur</td>\n",
       "      <td>Batasi makanan olahan</td>\n",
       "    </tr>\n",
       "  </tbody>\n",
       "</table>\n",
       "</div>"
      ],
      "text/plain": [
       "        penyakit                         olahraga\n",
       "0  Infeksi jamur            Hindari makanan manis\n",
       "1  Infeksi jamur            Mengonsumsi probiotik\n",
       "2  Infeksi jamur   Tingkatkan asupan bawang putih\n",
       "3  Infeksi jamur  Sertakan yogurt dalam diet Anda\n",
       "4  Infeksi jamur            Batasi makanan olahan"
      ]
     },
     "execution_count": 161,
     "metadata": {},
     "output_type": "execute_result"
    }
   ],
   "source": [
    "workout_df = pd.read_csv('C:/Users/Widnyana/Downloads/NAMA SAYA/MAHASISWA_NAMA SAYA_V1/Source/indo/workout.csv',usecols=[2,3])\n",
    "workout_df.head()"
   ]
  },
  {
   "cell_type": "code",
   "execution_count": 162,
   "id": "32c340df",
   "metadata": {},
   "outputs": [
    {
     "data": {
      "text/plain": [
       "penyakit    0\n",
       "olahraga    0\n",
       "dtype: int64"
      ]
     },
     "execution_count": 162,
     "metadata": {},
     "output_type": "execute_result"
    }
   ],
   "source": [
    "nan_count = workout_df.isna().sum()\n",
    "nan_count\n"
   ]
  },
  {
   "cell_type": "code",
   "execution_count": 163,
   "id": "25200628",
   "metadata": {
    "execution": {
     "iopub.execute_input": "2024-09-11T19:04:26.382664Z",
     "iopub.status.busy": "2024-09-11T19:04:26.381786Z",
     "iopub.status.idle": "2024-09-11T19:04:26.388301Z",
     "shell.execute_reply": "2024-09-11T19:04:26.387377Z"
    },
    "papermill": {
     "duration": 0.027251,
     "end_time": "2024-09-11T19:04:26.390241",
     "exception": false,
     "start_time": "2024-09-11T19:04:26.362990",
     "status": "completed"
    },
    "tags": []
   },
   "outputs": [
    {
     "data": {
      "text/plain": [
       "(410, 2)"
      ]
     },
     "execution_count": 163,
     "metadata": {},
     "output_type": "execute_result"
    }
   ],
   "source": [
    "workout_df.shape"
   ]
  },
  {
   "cell_type": "code",
   "execution_count": 164,
   "id": "70458fba",
   "metadata": {
    "execution": {
     "iopub.execute_input": "2024-09-11T19:04:26.428571Z",
     "iopub.status.busy": "2024-09-11T19:04:26.427676Z",
     "iopub.status.idle": "2024-09-11T19:04:26.437305Z",
     "shell.execute_reply": "2024-09-11T19:04:26.436357Z"
    },
    "papermill": {
     "duration": 0.031027,
     "end_time": "2024-09-11T19:04:26.439314",
     "exception": false,
     "start_time": "2024-09-11T19:04:26.408287",
     "status": "completed"
    },
    "tags": []
   },
   "outputs": [
    {
     "name": "stdout",
     "output_type": "stream",
     "text": [
      "<class 'pandas.core.frame.DataFrame'>\n",
      "RangeIndex: 410 entries, 0 to 409\n",
      "Data columns (total 2 columns):\n",
      " #   Column    Non-Null Count  Dtype \n",
      "---  ------    --------------  ----- \n",
      " 0   penyakit  410 non-null    object\n",
      " 1   olahraga  410 non-null    object\n",
      "dtypes: object(2)\n",
      "memory usage: 6.5+ KB\n"
     ]
    }
   ],
   "source": [
    "workout_df.info()"
   ]
  },
  {
   "cell_type": "code",
   "execution_count": 165,
   "id": "d200c6c0",
   "metadata": {
    "execution": {
     "iopub.execute_input": "2024-09-11T19:04:26.477003Z",
     "iopub.status.busy": "2024-09-11T19:04:26.476118Z",
     "iopub.status.idle": "2024-09-11T19:04:26.483522Z",
     "shell.execute_reply": "2024-09-11T19:04:26.482658Z"
    },
    "papermill": {
     "duration": 0.028326,
     "end_time": "2024-09-11T19:04:26.485489",
     "exception": false,
     "start_time": "2024-09-11T19:04:26.457163",
     "status": "completed"
    },
    "tags": []
   },
   "outputs": [
    {
     "data": {
      "text/plain": [
       "array(['Infeksi jamur', 'Alergi', 'Penyakit GERD', 'Kolestasis kronis',\n",
       "       'Reaksi Obat', 'Penyakit tukak lambung', 'AIDS', 'Diabetes',\n",
       "       'Radang perut', 'Asma Bronkial', 'Hipertensi', 'Migrain',\n",
       "       'Spondilosis serviks', 'Kelumpuhan (pendarahan otak)',\n",
       "       'Penyakit kuning', 'Malaria', 'Cacar air', 'Demam Berdarah',\n",
       "       'Penyakit tipus', 'penyakit hepatitis A', 'Penyakit Hepatitis B',\n",
       "       'Penyakit Hepatitis C', 'Penyakit Hepatitis D.', 'Hepatitis E',\n",
       "       'Hepatitis alkoholik', 'Tuberkulosis', 'Flu biasa',\n",
       "       'Radang paru-paru', 'Wasir dimorfik (ambeien)', 'Serangan jantung',\n",
       "       'Pembuluh mekar', 'Hipotiroidisme', 'Hipertiroidisme',\n",
       "       'Hipoglikemia', 'Osteoartritis', 'Radang sendi',\n",
       "       '(vertigo) Vertigo Posisi Paroymsal', 'Jerawat',\n",
       "       'Infeksi saluran kemih', 'Psoriasis', 'Impetigo'], dtype=object)"
      ]
     },
     "execution_count": 165,
     "metadata": {},
     "output_type": "execute_result"
    }
   ],
   "source": [
    "names = dataset.prognosa.unique()\n",
    "names"
   ]
  },
  {
   "cell_type": "code",
   "execution_count": 166,
   "id": "048ba51a",
   "metadata": {
    "execution": {
     "iopub.execute_input": "2024-09-11T19:04:26.523289Z",
     "iopub.status.busy": "2024-09-11T19:04:26.522577Z",
     "iopub.status.idle": "2024-09-11T19:04:26.529373Z",
     "shell.execute_reply": "2024-09-11T19:04:26.528485Z"
    },
    "papermill": {
     "duration": 0.027864,
     "end_time": "2024-09-11T19:04:26.531321",
     "exception": false,
     "start_time": "2024-09-11T19:04:26.503457",
     "status": "completed"
    },
    "tags": []
   },
   "outputs": [
    {
     "data": {
      "text/plain": [
       "41"
      ]
     },
     "execution_count": 166,
     "metadata": {},
     "output_type": "execute_result"
    }
   ],
   "source": [
    "len(dataset.prognosa.unique())"
   ]
  },
  {
   "cell_type": "code",
   "execution_count": 167,
   "id": "bb2464e4",
   "metadata": {
    "execution": {
     "iopub.execute_input": "2024-09-11T19:04:26.569477Z",
     "iopub.status.busy": "2024-09-11T19:04:26.568513Z",
     "iopub.status.idle": "2024-09-11T19:04:26.577972Z",
     "shell.execute_reply": "2024-09-11T19:04:26.577074Z"
    },
    "papermill": {
     "duration": 0.030694,
     "end_time": "2024-09-11T19:04:26.580042",
     "exception": false,
     "start_time": "2024-09-11T19:04:26.549348",
     "status": "completed"
    },
    "tags": []
   },
   "outputs": [
    {
     "data": {
      "text/plain": [
       "Infeksi jamur                         120\n",
       "Penyakit Hepatitis C                  120\n",
       "Hepatitis E                           120\n",
       "Hepatitis alkoholik                   120\n",
       "Tuberkulosis                          120\n",
       "Flu biasa                             120\n",
       "Radang paru-paru                      120\n",
       "Wasir dimorfik (ambeien)              120\n",
       "Serangan jantung                      120\n",
       "Pembuluh mekar                        120\n",
       "Hipotiroidisme                        120\n",
       "Hipertiroidisme                       120\n",
       "Hipoglikemia                          120\n",
       "Osteoartritis                         120\n",
       "Radang sendi                          120\n",
       "(vertigo) Vertigo Posisi Paroymsal    120\n",
       "Jerawat                               120\n",
       "Infeksi saluran kemih                 120\n",
       "Psoriasis                             120\n",
       "Penyakit Hepatitis D.                 120\n",
       "Penyakit Hepatitis B                  120\n",
       "Alergi                                120\n",
       "penyakit hepatitis A                  120\n",
       "Penyakit GERD                         120\n",
       "Kolestasis kronis                     120\n",
       "Reaksi Obat                           120\n",
       "Penyakit tukak lambung                120\n",
       "AIDS                                  120\n",
       "Diabetes                              120\n",
       "Radang perut                          120\n",
       "Asma Bronkial                         120\n",
       "Hipertensi                            120\n",
       "Migrain                               120\n",
       "Spondilosis serviks                   120\n",
       "Kelumpuhan (pendarahan otak)          120\n",
       "Penyakit kuning                       120\n",
       "Malaria                               120\n",
       "Cacar air                             120\n",
       "Demam Berdarah                        120\n",
       "Penyakit tipus                        120\n",
       "Impetigo                              120\n",
       "Name: prognosa, dtype: int64"
      ]
     },
     "execution_count": 167,
     "metadata": {},
     "output_type": "execute_result"
    }
   ],
   "source": [
    "value_counts = dataset.prognosa.value_counts()\n",
    "value_counts "
   ]
  },
  {
   "cell_type": "markdown",
   "id": "5094c9a2",
   "metadata": {
    "papermill": {
     "duration": 0.017905,
     "end_time": "2024-09-11T19:04:26.616389",
     "exception": false,
     "start_time": "2024-09-11T19:04:26.598484",
     "status": "completed"
    },
    "tags": []
   },
   "source": [
    "**<a id=\"3\"></a>\n",
    "<h1><b><p style=\"background-image: url(https://i.postimg.cc/0Qwf8YX6/2927262.jpg);font-family:camtasia;font-size:110%;color:white;text-align:center;border-radius:15px 50px; padding:7px; border:solid 2px #09375b; box-shadow: 10px 10px 10px #042b4c\">Preprocessing</p></b></h1>\n",
    "<a class=\"btn\" href=\"#home\">Tabel of Contents</a>"
   ]
  },
  {
   "cell_type": "code",
   "execution_count": 168,
   "id": "5349f921",
   "metadata": {
    "execution": {
     "iopub.execute_input": "2024-09-11T19:04:26.655454Z",
     "iopub.status.busy": "2024-09-11T19:04:26.654561Z",
     "iopub.status.idle": "2024-09-11T19:04:26.676543Z",
     "shell.execute_reply": "2024-09-11T19:04:26.675593Z"
    },
    "papermill": {
     "duration": 0.043591,
     "end_time": "2024-09-11T19:04:26.678644",
     "exception": false,
     "start_time": "2024-09-11T19:04:26.635053",
     "status": "completed"
    },
    "tags": []
   },
   "outputs": [
    {
     "data": {
      "text/html": [
       "<div>\n",
       "<style scoped>\n",
       "    .dataframe tbody tr th:only-of-type {\n",
       "        vertical-align: middle;\n",
       "    }\n",
       "\n",
       "    .dataframe tbody tr th {\n",
       "        vertical-align: top;\n",
       "    }\n",
       "\n",
       "    .dataframe thead th {\n",
       "        text-align: right;\n",
       "    }\n",
       "</style>\n",
       "<table border=\"1\" class=\"dataframe\">\n",
       "  <thead>\n",
       "    <tr style=\"text-align: right;\">\n",
       "      <th></th>\n",
       "      <th>gatal</th>\n",
       "      <th>ruam kulit</th>\n",
       "      <th>erupsi_kulit_nodal</th>\n",
       "      <th>bersin_terus_menerus</th>\n",
       "      <th>gemetaran</th>\n",
       "      <th>panas dingin</th>\n",
       "      <th>nyeri sendi</th>\n",
       "      <th>sakit perut</th>\n",
       "      <th>keasaman</th>\n",
       "      <th>bisul_di_lidah</th>\n",
       "      <th>...</th>\n",
       "      <th>komedo</th>\n",
       "      <th>menggeliat</th>\n",
       "      <th>kulit_terkelupas</th>\n",
       "      <th>debu_seperti_perak</th>\n",
       "      <th>lekukan kecil pada kuku</th>\n",
       "      <th>kuku_inflamasi</th>\n",
       "      <th>lepuh</th>\n",
       "      <th>luka_merah_di_sekitar_hidung</th>\n",
       "      <th>kerak_kuning_cairan_kerak</th>\n",
       "      <th>prognosa</th>\n",
       "    </tr>\n",
       "  </thead>\n",
       "  <tbody>\n",
       "    <tr>\n",
       "      <th>0</th>\n",
       "      <td>1</td>\n",
       "      <td>1</td>\n",
       "      <td>1</td>\n",
       "      <td>0</td>\n",
       "      <td>0</td>\n",
       "      <td>0</td>\n",
       "      <td>0</td>\n",
       "      <td>0</td>\n",
       "      <td>0</td>\n",
       "      <td>0</td>\n",
       "      <td>...</td>\n",
       "      <td>0</td>\n",
       "      <td>0</td>\n",
       "      <td>0</td>\n",
       "      <td>0</td>\n",
       "      <td>0</td>\n",
       "      <td>0</td>\n",
       "      <td>0</td>\n",
       "      <td>0</td>\n",
       "      <td>0</td>\n",
       "      <td>15</td>\n",
       "    </tr>\n",
       "    <tr>\n",
       "      <th>1</th>\n",
       "      <td>0</td>\n",
       "      <td>1</td>\n",
       "      <td>1</td>\n",
       "      <td>0</td>\n",
       "      <td>0</td>\n",
       "      <td>0</td>\n",
       "      <td>0</td>\n",
       "      <td>0</td>\n",
       "      <td>0</td>\n",
       "      <td>0</td>\n",
       "      <td>...</td>\n",
       "      <td>0</td>\n",
       "      <td>0</td>\n",
       "      <td>0</td>\n",
       "      <td>0</td>\n",
       "      <td>0</td>\n",
       "      <td>0</td>\n",
       "      <td>0</td>\n",
       "      <td>0</td>\n",
       "      <td>0</td>\n",
       "      <td>15</td>\n",
       "    </tr>\n",
       "    <tr>\n",
       "      <th>2</th>\n",
       "      <td>1</td>\n",
       "      <td>0</td>\n",
       "      <td>1</td>\n",
       "      <td>0</td>\n",
       "      <td>0</td>\n",
       "      <td>0</td>\n",
       "      <td>0</td>\n",
       "      <td>0</td>\n",
       "      <td>0</td>\n",
       "      <td>0</td>\n",
       "      <td>...</td>\n",
       "      <td>0</td>\n",
       "      <td>0</td>\n",
       "      <td>0</td>\n",
       "      <td>0</td>\n",
       "      <td>0</td>\n",
       "      <td>0</td>\n",
       "      <td>0</td>\n",
       "      <td>0</td>\n",
       "      <td>0</td>\n",
       "      <td>15</td>\n",
       "    </tr>\n",
       "    <tr>\n",
       "      <th>3</th>\n",
       "      <td>1</td>\n",
       "      <td>1</td>\n",
       "      <td>0</td>\n",
       "      <td>0</td>\n",
       "      <td>0</td>\n",
       "      <td>0</td>\n",
       "      <td>0</td>\n",
       "      <td>0</td>\n",
       "      <td>0</td>\n",
       "      <td>0</td>\n",
       "      <td>...</td>\n",
       "      <td>0</td>\n",
       "      <td>0</td>\n",
       "      <td>0</td>\n",
       "      <td>0</td>\n",
       "      <td>0</td>\n",
       "      <td>0</td>\n",
       "      <td>0</td>\n",
       "      <td>0</td>\n",
       "      <td>0</td>\n",
       "      <td>15</td>\n",
       "    </tr>\n",
       "    <tr>\n",
       "      <th>4</th>\n",
       "      <td>1</td>\n",
       "      <td>1</td>\n",
       "      <td>1</td>\n",
       "      <td>0</td>\n",
       "      <td>0</td>\n",
       "      <td>0</td>\n",
       "      <td>0</td>\n",
       "      <td>0</td>\n",
       "      <td>0</td>\n",
       "      <td>0</td>\n",
       "      <td>...</td>\n",
       "      <td>0</td>\n",
       "      <td>0</td>\n",
       "      <td>0</td>\n",
       "      <td>0</td>\n",
       "      <td>0</td>\n",
       "      <td>0</td>\n",
       "      <td>0</td>\n",
       "      <td>0</td>\n",
       "      <td>0</td>\n",
       "      <td>15</td>\n",
       "    </tr>\n",
       "  </tbody>\n",
       "</table>\n",
       "<p>5 rows × 133 columns</p>\n",
       "</div>"
      ],
      "text/plain": [
       "   gatal  ruam kulit  erupsi_kulit_nodal  bersin_terus_menerus  gemetaran  \\\n",
       "0      1           1                   1                     0          0   \n",
       "1      0           1                   1                     0          0   \n",
       "2      1           0                   1                     0          0   \n",
       "3      1           1                   0                     0          0   \n",
       "4      1           1                   1                     0          0   \n",
       "\n",
       "   panas dingin  nyeri sendi  sakit perut  keasaman  bisul_di_lidah  ...  \\\n",
       "0             0            0            0         0               0  ...   \n",
       "1             0            0            0         0               0  ...   \n",
       "2             0            0            0         0               0  ...   \n",
       "3             0            0            0         0               0  ...   \n",
       "4             0            0            0         0               0  ...   \n",
       "\n",
       "   komedo  menggeliat  kulit_terkelupas  debu_seperti_perak  \\\n",
       "0       0           0                 0                   0   \n",
       "1       0           0                 0                   0   \n",
       "2       0           0                 0                   0   \n",
       "3       0           0                 0                   0   \n",
       "4       0           0                 0                   0   \n",
       "\n",
       "   lekukan kecil pada kuku  kuku_inflamasi  lepuh  \\\n",
       "0                        0               0      0   \n",
       "1                        0               0      0   \n",
       "2                        0               0      0   \n",
       "3                        0               0      0   \n",
       "4                        0               0      0   \n",
       "\n",
       "   luka_merah_di_sekitar_hidung  kerak_kuning_cairan_kerak  prognosa  \n",
       "0                             0                          0        15  \n",
       "1                             0                          0        15  \n",
       "2                             0                          0        15  \n",
       "3                             0                          0        15  \n",
       "4                             0                          0        15  \n",
       "\n",
       "[5 rows x 133 columns]"
      ]
     },
     "execution_count": 168,
     "metadata": {},
     "output_type": "execute_result"
    }
   ],
   "source": [
    "### Transform Object Columns into Numbers\n",
    "label = LabelEncoder()\n",
    "dataset.prognosa = label.fit_transform(dataset.prognosa)\n",
    "dataset.head()"
   ]
  },
  {
   "cell_type": "code",
   "execution_count": 169,
   "id": "af9f0aac",
   "metadata": {
    "execution": {
     "iopub.execute_input": "2024-09-11T19:04:26.718811Z",
     "iopub.status.busy": "2024-09-11T19:04:26.718399Z",
     "iopub.status.idle": "2024-09-11T19:04:26.741282Z",
     "shell.execute_reply": "2024-09-11T19:04:26.739911Z"
    },
    "papermill": {
     "duration": 0.04677,
     "end_time": "2024-09-11T19:04:26.745139",
     "exception": false,
     "start_time": "2024-09-11T19:04:26.698369",
     "status": "completed"
    },
    "tags": []
   },
   "outputs": [
    {
     "data": {
      "text/html": [
       "<div>\n",
       "<style scoped>\n",
       "    .dataframe tbody tr th:only-of-type {\n",
       "        vertical-align: middle;\n",
       "    }\n",
       "\n",
       "    .dataframe tbody tr th {\n",
       "        vertical-align: top;\n",
       "    }\n",
       "\n",
       "    .dataframe thead th {\n",
       "        text-align: right;\n",
       "    }\n",
       "</style>\n",
       "<table border=\"1\" class=\"dataframe\">\n",
       "  <thead>\n",
       "    <tr style=\"text-align: right;\">\n",
       "      <th></th>\n",
       "      <th>gatal</th>\n",
       "      <th>ruam kulit</th>\n",
       "      <th>erupsi_kulit_nodal</th>\n",
       "      <th>bersin_terus_menerus</th>\n",
       "      <th>gemetaran</th>\n",
       "      <th>panas dingin</th>\n",
       "      <th>nyeri sendi</th>\n",
       "      <th>sakit perut</th>\n",
       "      <th>keasaman</th>\n",
       "      <th>bisul_di_lidah</th>\n",
       "      <th>...</th>\n",
       "      <th>jerawat_berisi_nanah</th>\n",
       "      <th>komedo</th>\n",
       "      <th>menggeliat</th>\n",
       "      <th>kulit_terkelupas</th>\n",
       "      <th>debu_seperti_perak</th>\n",
       "      <th>lekukan kecil pada kuku</th>\n",
       "      <th>kuku_inflamasi</th>\n",
       "      <th>lepuh</th>\n",
       "      <th>luka_merah_di_sekitar_hidung</th>\n",
       "      <th>kerak_kuning_cairan_kerak</th>\n",
       "    </tr>\n",
       "  </thead>\n",
       "  <tbody>\n",
       "    <tr>\n",
       "      <th>0</th>\n",
       "      <td>1</td>\n",
       "      <td>1</td>\n",
       "      <td>1</td>\n",
       "      <td>0</td>\n",
       "      <td>0</td>\n",
       "      <td>0</td>\n",
       "      <td>0</td>\n",
       "      <td>0</td>\n",
       "      <td>0</td>\n",
       "      <td>0</td>\n",
       "      <td>...</td>\n",
       "      <td>0</td>\n",
       "      <td>0</td>\n",
       "      <td>0</td>\n",
       "      <td>0</td>\n",
       "      <td>0</td>\n",
       "      <td>0</td>\n",
       "      <td>0</td>\n",
       "      <td>0</td>\n",
       "      <td>0</td>\n",
       "      <td>0</td>\n",
       "    </tr>\n",
       "    <tr>\n",
       "      <th>1</th>\n",
       "      <td>0</td>\n",
       "      <td>1</td>\n",
       "      <td>1</td>\n",
       "      <td>0</td>\n",
       "      <td>0</td>\n",
       "      <td>0</td>\n",
       "      <td>0</td>\n",
       "      <td>0</td>\n",
       "      <td>0</td>\n",
       "      <td>0</td>\n",
       "      <td>...</td>\n",
       "      <td>0</td>\n",
       "      <td>0</td>\n",
       "      <td>0</td>\n",
       "      <td>0</td>\n",
       "      <td>0</td>\n",
       "      <td>0</td>\n",
       "      <td>0</td>\n",
       "      <td>0</td>\n",
       "      <td>0</td>\n",
       "      <td>0</td>\n",
       "    </tr>\n",
       "    <tr>\n",
       "      <th>2</th>\n",
       "      <td>1</td>\n",
       "      <td>0</td>\n",
       "      <td>1</td>\n",
       "      <td>0</td>\n",
       "      <td>0</td>\n",
       "      <td>0</td>\n",
       "      <td>0</td>\n",
       "      <td>0</td>\n",
       "      <td>0</td>\n",
       "      <td>0</td>\n",
       "      <td>...</td>\n",
       "      <td>0</td>\n",
       "      <td>0</td>\n",
       "      <td>0</td>\n",
       "      <td>0</td>\n",
       "      <td>0</td>\n",
       "      <td>0</td>\n",
       "      <td>0</td>\n",
       "      <td>0</td>\n",
       "      <td>0</td>\n",
       "      <td>0</td>\n",
       "    </tr>\n",
       "    <tr>\n",
       "      <th>3</th>\n",
       "      <td>1</td>\n",
       "      <td>1</td>\n",
       "      <td>0</td>\n",
       "      <td>0</td>\n",
       "      <td>0</td>\n",
       "      <td>0</td>\n",
       "      <td>0</td>\n",
       "      <td>0</td>\n",
       "      <td>0</td>\n",
       "      <td>0</td>\n",
       "      <td>...</td>\n",
       "      <td>0</td>\n",
       "      <td>0</td>\n",
       "      <td>0</td>\n",
       "      <td>0</td>\n",
       "      <td>0</td>\n",
       "      <td>0</td>\n",
       "      <td>0</td>\n",
       "      <td>0</td>\n",
       "      <td>0</td>\n",
       "      <td>0</td>\n",
       "    </tr>\n",
       "    <tr>\n",
       "      <th>4</th>\n",
       "      <td>1</td>\n",
       "      <td>1</td>\n",
       "      <td>1</td>\n",
       "      <td>0</td>\n",
       "      <td>0</td>\n",
       "      <td>0</td>\n",
       "      <td>0</td>\n",
       "      <td>0</td>\n",
       "      <td>0</td>\n",
       "      <td>0</td>\n",
       "      <td>...</td>\n",
       "      <td>0</td>\n",
       "      <td>0</td>\n",
       "      <td>0</td>\n",
       "      <td>0</td>\n",
       "      <td>0</td>\n",
       "      <td>0</td>\n",
       "      <td>0</td>\n",
       "      <td>0</td>\n",
       "      <td>0</td>\n",
       "      <td>0</td>\n",
       "    </tr>\n",
       "  </tbody>\n",
       "</table>\n",
       "<p>5 rows × 132 columns</p>\n",
       "</div>"
      ],
      "text/plain": [
       "   gatal  ruam kulit  erupsi_kulit_nodal  bersin_terus_menerus  gemetaran  \\\n",
       "0      1           1                   1                     0          0   \n",
       "1      0           1                   1                     0          0   \n",
       "2      1           0                   1                     0          0   \n",
       "3      1           1                   0                     0          0   \n",
       "4      1           1                   1                     0          0   \n",
       "\n",
       "   panas dingin  nyeri sendi  sakit perut  keasaman  bisul_di_lidah  ...  \\\n",
       "0             0            0            0         0               0  ...   \n",
       "1             0            0            0         0               0  ...   \n",
       "2             0            0            0         0               0  ...   \n",
       "3             0            0            0         0               0  ...   \n",
       "4             0            0            0         0               0  ...   \n",
       "\n",
       "   jerawat_berisi_nanah  komedo  menggeliat  kulit_terkelupas  \\\n",
       "0                     0       0           0                 0   \n",
       "1                     0       0           0                 0   \n",
       "2                     0       0           0                 0   \n",
       "3                     0       0           0                 0   \n",
       "4                     0       0           0                 0   \n",
       "\n",
       "   debu_seperti_perak  lekukan kecil pada kuku  kuku_inflamasi  lepuh  \\\n",
       "0                   0                        0               0      0   \n",
       "1                   0                        0               0      0   \n",
       "2                   0                        0               0      0   \n",
       "3                   0                        0               0      0   \n",
       "4                   0                        0               0      0   \n",
       "\n",
       "   luka_merah_di_sekitar_hidung  kerak_kuning_cairan_kerak  \n",
       "0                             0                          0  \n",
       "1                             0                          0  \n",
       "2                             0                          0  \n",
       "3                             0                          0  \n",
       "4                             0                          0  \n",
       "\n",
       "[5 rows x 132 columns]"
      ]
     },
     "execution_count": 169,
     "metadata": {},
     "output_type": "execute_result"
    }
   ],
   "source": [
    "### Split \n",
    "X = dataset.drop('prognosa',axis=1)\n",
    "y = dataset['prognosa']\n",
    "keys = X.columns\n",
    "X.head()"
   ]
  },
  {
   "cell_type": "code",
   "execution_count": 170,
   "id": "cfd2fd58",
   "metadata": {
    "execution": {
     "iopub.execute_input": "2024-09-11T19:04:26.787436Z",
     "iopub.status.busy": "2024-09-11T19:04:26.787047Z",
     "iopub.status.idle": "2024-09-11T19:04:26.794075Z",
     "shell.execute_reply": "2024-09-11T19:04:26.792986Z"
    },
    "papermill": {
     "duration": 0.029042,
     "end_time": "2024-09-11T19:04:26.796041",
     "exception": false,
     "start_time": "2024-09-11T19:04:26.766999",
     "status": "completed"
    },
    "tags": []
   },
   "outputs": [
    {
     "data": {
      "text/plain": [
       "0    15\n",
       "1    15\n",
       "2    15\n",
       "3    15\n",
       "4    15\n",
       "Name: prognosa, dtype: int32"
      ]
     },
     "execution_count": 170,
     "metadata": {},
     "output_type": "execute_result"
    }
   ],
   "source": [
    "y.head()"
   ]
  },
  {
   "cell_type": "code",
   "execution_count": 171,
   "id": "0b14055c",
   "metadata": {
    "execution": {
     "iopub.execute_input": "2024-09-11T19:04:26.884108Z",
     "iopub.status.busy": "2024-09-11T19:04:26.883241Z",
     "iopub.status.idle": "2024-09-11T19:04:26.900477Z",
     "shell.execute_reply": "2024-09-11T19:04:26.899384Z"
    },
    "papermill": {
     "duration": 0.039667,
     "end_time": "2024-09-11T19:04:26.902544",
     "exception": false,
     "start_time": "2024-09-11T19:04:26.862877",
     "status": "completed"
    },
    "tags": []
   },
   "outputs": [
    {
     "name": "stdout",
     "output_type": "stream",
     "text": [
      "X_train shape is  (3936, 132)\n",
      "X_test shape is  (984, 132)\n",
      "y_train shape is  (3936,)\n",
      "y_test shape is  (984,)\n"
     ]
    }
   ],
   "source": [
    "X_train, X_test, y_train, y_test = train_test_split(X, y, test_size=0.20, random_state=41, shuffle =True,stratify=y)\n",
    "print('X_train shape is ' , X_train.shape)\n",
    "print('X_test shape is ' , X_test.shape)\n",
    "print('y_train shape is ' , y_train.shape)\n",
    "print('y_test shape is ' , y_test.shape)"
   ]
  },
  {
   "cell_type": "markdown",
   "id": "931240df",
   "metadata": {
    "papermill": {
     "duration": 0.01901,
     "end_time": "2024-09-11T19:04:26.940831",
     "exception": false,
     "start_time": "2024-09-11T19:04:26.921821",
     "status": "completed"
    },
    "tags": []
   },
   "source": [
    "**<a id=\"4\"></a>\n",
    "<h1><b><p style=\"background-image: url(https://i.postimg.cc/0Qwf8YX6/2927262.jpg);font-family:camtasia;font-size:110%;color:white;text-align:center;border-radius:15px 50px; padding:7px; border:solid 2px #09375b; box-shadow: 10px 10px 10px #042b4c\">ML Models</p></b></h1>\n",
    "<a class=\"btn\" href=\"#home\">Tabel of Contents</a>"
   ]
  },
  {
   "cell_type": "code",
   "execution_count": 172,
   "id": "9442154b",
   "metadata": {
    "execution": {
     "iopub.execute_input": "2024-09-11T19:04:26.981323Z",
     "iopub.status.busy": "2024-09-11T19:04:26.980945Z",
     "iopub.status.idle": "2024-09-11T19:04:59.764591Z",
     "shell.execute_reply": "2024-09-11T19:04:59.763364Z"
    },
    "papermill": {
     "duration": 32.806438,
     "end_time": "2024-09-11T19:04:59.766711",
     "exception": false,
     "start_time": "2024-09-11T19:04:26.960273",
     "status": "completed"
    },
    "tags": []
   },
   "outputs": [
    {
     "name": "stdout",
     "output_type": "stream",
     "text": [
      "Cross-validating RandomForest...\n"
     ]
    },
    {
     "name": "stdout",
     "output_type": "stream",
     "text": [
      "Mean accuracy for RandomForest: 1.0000\n",
      "Cross-validating XGBoost...\n",
      "Mean accuracy for XGBoost: 0.9990\n",
      "Cross-validating LGBM...\n",
      "Mean accuracy for LGBM: 0.9990\n",
      "Cross-validating DecisionTree...\n",
      "Mean accuracy for DecisionTree: 0.9985\n",
      "Cross-validating KNN...\n",
      "Mean accuracy for KNN: 1.0000\n",
      "Cross-validating SVC...\n",
      "Mean accuracy for SVC: 1.0000\n",
      "Cross-validating LogisticRegression...\n",
      "Mean accuracy for LogisticRegression: 1.0000\n"
     ]
    }
   ],
   "source": [
    "models = {\n",
    "    'RandomForest': RandomForestClassifier(),\n",
    "    'XGBoost': XGBClassifier(),\n",
    "    'LGBM': LGBMClassifier(verbose=-1),\n",
    "    'DecisionTree': DecisionTreeClassifier(),\n",
    "    'KNN': KNeighborsClassifier(),\n",
    "    'SVC': SVC(),\n",
    "    'LogisticRegression': LogisticRegression()\n",
    "}\n",
    "### Validation Score\n",
    "cv_results = {}\n",
    "for model_name, model in models.items():\n",
    "    print(f\"Cross-validating {model_name}...\")\n",
    "    cv_scores = cross_val_score(model, X_train, y_train, cv=5, scoring='accuracy', n_jobs=-1)\n",
    "    cv_results[model_name] = cv_scores.mean()\n",
    "    print(f\"Mean accuracy for {model_name}: {cv_scores.mean():.4f}\")"
   ]
  },
  {
   "cell_type": "code",
   "execution_count": 173,
   "id": "23ba6c1a",
   "metadata": {
    "execution": {
     "iopub.execute_input": "2024-09-11T19:04:59.808629Z",
     "iopub.status.busy": "2024-09-11T19:04:59.807942Z",
     "iopub.status.idle": "2024-09-11T19:04:59.823670Z",
     "shell.execute_reply": "2024-09-11T19:04:59.822764Z"
    },
    "papermill": {
     "duration": 0.038875,
     "end_time": "2024-09-11T19:04:59.825669",
     "exception": false,
     "start_time": "2024-09-11T19:04:59.786794",
     "status": "completed"
    },
    "tags": []
   },
   "outputs": [
    {
     "data": {
      "text/html": [
       "<div>\n",
       "<style scoped>\n",
       "    .dataframe tbody tr th:only-of-type {\n",
       "        vertical-align: middle;\n",
       "    }\n",
       "\n",
       "    .dataframe tbody tr th {\n",
       "        vertical-align: top;\n",
       "    }\n",
       "\n",
       "    .dataframe thead th {\n",
       "        text-align: right;\n",
       "    }\n",
       "</style>\n",
       "<table border=\"1\" class=\"dataframe\">\n",
       "  <thead>\n",
       "    <tr style=\"text-align: right;\">\n",
       "      <th></th>\n",
       "      <th>Model</th>\n",
       "      <th>Mean Accuracy</th>\n",
       "    </tr>\n",
       "  </thead>\n",
       "  <tbody>\n",
       "    <tr>\n",
       "      <th>0</th>\n",
       "      <td>RandomForest</td>\n",
       "      <td>1.000000</td>\n",
       "    </tr>\n",
       "    <tr>\n",
       "      <th>4</th>\n",
       "      <td>KNN</td>\n",
       "      <td>1.000000</td>\n",
       "    </tr>\n",
       "    <tr>\n",
       "      <th>5</th>\n",
       "      <td>SVC</td>\n",
       "      <td>1.000000</td>\n",
       "    </tr>\n",
       "    <tr>\n",
       "      <th>6</th>\n",
       "      <td>LogisticRegression</td>\n",
       "      <td>1.000000</td>\n",
       "    </tr>\n",
       "    <tr>\n",
       "      <th>1</th>\n",
       "      <td>XGBoost</td>\n",
       "      <td>0.998985</td>\n",
       "    </tr>\n",
       "    <tr>\n",
       "      <th>2</th>\n",
       "      <td>LGBM</td>\n",
       "      <td>0.998985</td>\n",
       "    </tr>\n",
       "    <tr>\n",
       "      <th>3</th>\n",
       "      <td>DecisionTree</td>\n",
       "      <td>0.998477</td>\n",
       "    </tr>\n",
       "  </tbody>\n",
       "</table>\n",
       "</div>"
      ],
      "text/plain": [
       "                Model  Mean Accuracy\n",
       "0        RandomForest       1.000000\n",
       "4                 KNN       1.000000\n",
       "5                 SVC       1.000000\n",
       "6  LogisticRegression       1.000000\n",
       "1             XGBoost       0.998985\n",
       "2                LGBM       0.998985\n",
       "3        DecisionTree       0.998477"
      ]
     },
     "execution_count": 173,
     "metadata": {},
     "output_type": "execute_result"
    }
   ],
   "source": [
    "cv_results_df = pd.DataFrame(list(cv_results.items()), columns=['Model', 'Mean Accuracy'])\n",
    "cv_results_df = cv_results_df.sort_values(by='Mean Accuracy', ascending=False)\n",
    "cv_results_df"
   ]
  },
  {
   "cell_type": "code",
   "execution_count": 174,
   "id": "6fbc73a5",
   "metadata": {
    "execution": {
     "iopub.execute_input": "2024-09-11T19:04:59.867729Z",
     "iopub.status.busy": "2024-09-11T19:04:59.866990Z",
     "iopub.status.idle": "2024-09-11T19:04:59.872439Z",
     "shell.execute_reply": "2024-09-11T19:04:59.871575Z"
    },
    "papermill": {
     "duration": 0.028747,
     "end_time": "2024-09-11T19:04:59.874529",
     "exception": false,
     "start_time": "2024-09-11T19:04:59.845782",
     "status": "completed"
    },
    "tags": []
   },
   "outputs": [
    {
     "name": "stdout",
     "output_type": "stream",
     "text": [
      "\n",
      "Best model from CV: RandomForest\n"
     ]
    }
   ],
   "source": [
    "best_model_name = cv_results_df.iloc[0]['Model']\n",
    "print(f\"\\nBest model from CV: {best_model_name}\")"
   ]
  },
  {
   "cell_type": "code",
   "execution_count": 175,
   "id": "12f43a6a",
   "metadata": {
    "execution": {
     "iopub.execute_input": "2024-09-11T19:04:59.916435Z",
     "iopub.status.busy": "2024-09-11T19:04:59.915718Z",
     "iopub.status.idle": "2024-09-11T19:05:00.332806Z",
     "shell.execute_reply": "2024-09-11T19:05:00.331859Z"
    },
    "papermill": {
     "duration": 0.440752,
     "end_time": "2024-09-11T19:05:00.335334",
     "exception": false,
     "start_time": "2024-09-11T19:04:59.894582",
     "status": "completed"
    },
    "tags": []
   },
   "outputs": [
    {
     "data": {
      "image/png": "[encoded data removed]",
      "text/plain": [
       "<Figure size 1000x600 with 1 Axes>"
      ]
     },
     "metadata": {},
     "output_type": "display_data"
    }
   ],
   "source": [
    "plt.style.use('dark_background')\n",
    "plt.figure(figsize=(10, 6))\n",
    "sns.barplot(data=cv_results_df, x='Model', y='Mean Accuracy', palette=\"Set1\")\n",
    "plt.title('Cross-Validation Accuracy for Different Models', fontsize=16, color='white')\n",
    "plt.xlabel('Model', color='white')\n",
    "plt.ylabel('Mean Accuracy', color='white')\n",
    "for index, row in cv_results_df.iterrows():\n",
    "    plt.text(index, row['Mean Accuracy'] - 0.02, f'{row[\"Mean Accuracy\"]:.4f}', \n",
    "             color='white', ha=\"center\", va=\"center\", fontsize=12)\n",
    "plt.tight_layout()\n",
    "plt.show()"
   ]
  },
  {
   "cell_type": "code",
   "execution_count": 176,
   "id": "3642ac13",
   "metadata": {
    "execution": {
     "iopub.execute_input": "2024-09-11T19:05:00.378774Z",
     "iopub.status.busy": "2024-09-11T19:05:00.378048Z",
     "iopub.status.idle": "2024-09-11T19:21:49.693584Z",
     "shell.execute_reply": "2024-09-11T19:21:49.692460Z"
    },
    "papermill": {
     "duration": 1009.339021,
     "end_time": "2024-09-11T19:21:49.695572",
     "exception": false,
     "start_time": "2024-09-11T19:05:00.356551",
     "status": "completed"
    },
    "tags": []
   },
   "outputs": [],
   "source": [
    "# ### Search best Parameters\n",
    "# param_grids = {\n",
    "#     'RandomForest': {'n_estimators': [10, 20, 30, 40], 'max_depth': [None, 10, 20, 30, 40], 'min_samples_split': [2, 5, 10]},\n",
    "#     'XGBoost': {'max_depth': [3, 5, 7], 'n_estimators': [50, 60, 70], 'subsample': [0.6, 0.8, 1], 'learning_rate': [0.01, 0.1, 0.2]},\n",
    "#     'LGBM': {'n_estimators': [50, 100, 150], 'max_depth': [-1, 5, 10], 'learning_rate': [0.01, 0.05, 0.1]},\n",
    "#     'DecisionTree': {'max_depth': [None, 10, 20, 30], 'min_samples_split': [2, 5, 10]},\n",
    "#     'KNN': {'n_neighbors': [3, 5, 7], 'weights': ['uniform', 'distance'], 'p': [1, 2]},\n",
    "#     'SVC': {'C': [0.1, 1, 10], 'kernel': ['linear', 'rbf', 'poly'], 'gamma': ['scale', 'auto']},\n",
    "#     'LogisticRegression': {'C': [0.01, 0.1, 1, 10], 'penalty': ['l1', 'l2'], 'solver': ['liblinear', 'saga']}\n",
    "# }\n",
    "# best_results = []\n",
    "# for model_name, model in models.items():\n",
    "#     print(f\"\\nPerforming GridSearchCV for {model_name}...\")\n",
    "#     grid_search = GridSearchCV(estimator=model, param_grid=param_grids[model_name], cv=5, scoring='accuracy', verbose=1, n_jobs=-1)\n",
    "#     grid_search.fit(X_train, y_train)\n",
    "#     best_params = grid_search.best_params_\n",
    "#     best_score = grid_search.best_score_\n",
    "#     # Store the best score and parameters\n",
    "#     best_results.append({'Model': model_name, 'Best Score': best_score, 'Best Params': best_params})\n",
    "#     print(f\"\\nBest parameters for {model_name}: {best_params}\")\n",
    "#     print(f\"Best cross-validation score for {model_name}: {best_score:.4f}\")"
   ]
  },
  {
   "cell_type": "code",
   "execution_count": 177,
   "id": "d87798ef",
   "metadata": {},
   "outputs": [
    {
     "name": "stdout",
     "output_type": "stream",
     "text": [
      "Performing GridSearchCV for RandomForest...\n",
      "Fitting 5 folds for each of 60 candidates, totalling 300 fits\n",
      "\n",
      "Best parameters for RandomForest: {'max_depth': None, 'min_samples_split': 2, 'n_estimators': 10}\n",
      "Best cross-validation score for RandomForest: 1.0000\n"
     ]
    }
   ],
   "source": [
    "from sklearn.ensemble import RandomForestClassifier\n",
    "from sklearn.model_selection import GridSearchCV\n",
    "\n",
    "# Define the parameter grid for RandomForest\n",
    "param_grid_rf = {\n",
    "    'n_estimators': [10, 20, 30, 40],\n",
    "    'max_depth': [None, 10, 20, 30, 40],\n",
    "    'min_samples_split': [2, 5, 10]\n",
    "}\n",
    "\n",
    "# Initialize the RandomForest model\n",
    "rf_model = RandomForestClassifier()\n",
    "\n",
    "# Set up GridSearchCV for RandomForest\n",
    "print(\"Performing GridSearchCV for RandomForest...\")\n",
    "grid_search_rf = GridSearchCV(estimator=rf_model, param_grid=param_grid_rf, cv=5, scoring='accuracy', verbose=1, n_jobs=-1)\n",
    "grid_search_rf.fit(X_train, y_train)\n",
    "\n",
    "# Get the best parameters and score\n",
    "best_params_rf = grid_search_rf.best_params_\n",
    "best_score_rf = grid_search_rf.best_score_\n",
    "\n",
    "# Output the best score and parameters\n",
    "print(f\"\\nBest parameters for RandomForest: {best_params_rf}\")\n",
    "print(f\"Best cross-validation score for RandomForest: {best_score_rf:.4f}\")\n"
   ]
  },
  {
   "cell_type": "code",
   "execution_count": 178,
   "id": "5dfb42f7",
   "metadata": {
    "execution": {
     "iopub.execute_input": "2024-09-11T19:21:49.742391Z",
     "iopub.status.busy": "2024-09-11T19:21:49.742095Z",
     "iopub.status.idle": "2024-09-11T19:21:49.756671Z",
     "shell.execute_reply": "2024-09-11T19:21:49.755826Z"
    },
    "papermill": {
     "duration": 0.039978,
     "end_time": "2024-09-11T19:21:49.758773",
     "exception": false,
     "start_time": "2024-09-11T19:21:49.718795",
     "status": "completed"
    },
    "tags": []
   },
   "outputs": [
    {
     "data": {
      "text/html": [
       "<div>\n",
       "<style scoped>\n",
       "    .dataframe tbody tr th:only-of-type {\n",
       "        vertical-align: middle;\n",
       "    }\n",
       "\n",
       "    .dataframe tbody tr th {\n",
       "        vertical-align: top;\n",
       "    }\n",
       "\n",
       "    .dataframe thead th {\n",
       "        text-align: right;\n",
       "    }\n",
       "</style>\n",
       "<table border=\"1\" class=\"dataframe\">\n",
       "  <thead>\n",
       "    <tr style=\"text-align: right;\">\n",
       "      <th></th>\n",
       "      <th>Model</th>\n",
       "      <th>Best Score</th>\n",
       "      <th>Best Params</th>\n",
       "    </tr>\n",
       "  </thead>\n",
       "  <tbody>\n",
       "    <tr>\n",
       "      <th>0</th>\n",
       "      <td>RandomForest</td>\n",
       "      <td>1.0</td>\n",
       "      <td>{'max_depth': None, 'min_samples_split': 2, 'n...</td>\n",
       "    </tr>\n",
       "  </tbody>\n",
       "</table>\n",
       "</div>"
      ],
      "text/plain": [
       "          Model  Best Score                                        Best Params\n",
       "0  RandomForest         1.0  {'max_depth': None, 'min_samples_split': 2, 'n..."
      ]
     },
     "execution_count": 178,
     "metadata": {},
     "output_type": "execute_result"
    }
   ],
   "source": [
    "import pandas as pd\n",
    "\n",
    "# Store the best result for RandomForest in a dictionary\n",
    "best_result_rf = {\n",
    "    'Model': 'RandomForest',\n",
    "    'Best Score': best_score_rf,\n",
    "    'Best Params': best_params_rf\n",
    "}\n",
    "\n",
    "# Convert the dictionary to a DataFrame\n",
    "best_results_df = pd.DataFrame([best_result_rf])\n",
    "\n",
    "# Display the DataFrame\n",
    "best_results_df\n"
   ]
  },
  {
   "cell_type": "code",
   "execution_count": 179,
   "id": "cdd49cbb",
   "metadata": {
    "execution": {
     "iopub.execute_input": "2024-09-11T19:21:49.805797Z",
     "iopub.status.busy": "2024-09-11T19:21:49.805485Z",
     "iopub.status.idle": "2024-09-11T19:21:49.810665Z",
     "shell.execute_reply": "2024-09-11T19:21:49.809846Z"
    },
    "papermill": {
     "duration": 0.030716,
     "end_time": "2024-09-11T19:21:49.812728",
     "exception": false,
     "start_time": "2024-09-11T19:21:49.782012",
     "status": "completed"
    },
    "tags": []
   },
   "outputs": [
    {
     "name": "stdout",
     "output_type": "stream",
     "text": [
      "\n",
      "Best model : RandomForest\n",
      "\n",
      "Best Parameters : {'max_depth': None, 'min_samples_split': 2, 'n_estimators': 10}\n"
     ]
    }
   ],
   "source": [
    "best_model_name, best_model_param = best_results_df.iloc[0]['Model'],best_results_df.iloc[0]['Best Params']\n",
    "print(f\"\\nBest model : {best_model_name}\")\n",
    "print(f\"\\nBest Parameters : {best_model_param}\")"
   ]
  },
  {
   "cell_type": "code",
   "execution_count": 180,
   "id": "8c4f24bb",
   "metadata": {
    "execution": {
     "iopub.execute_input": "2024-09-11T19:21:49.858995Z",
     "iopub.status.busy": "2024-09-11T19:21:49.858729Z",
     "iopub.status.idle": "2024-09-11T19:21:50.207050Z",
     "shell.execute_reply": "2024-09-11T19:21:50.205961Z"
    },
    "papermill": {
     "duration": 0.374133,
     "end_time": "2024-09-11T19:21:50.209369",
     "exception": false,
     "start_time": "2024-09-11T19:21:49.835236",
     "status": "completed"
    },
    "tags": []
   },
   "outputs": [
    {
     "data": {
      "image/png": "[encoded data removed]",
      "text/plain": [
       "<Figure size 1000x600 with 1 Axes>"
      ]
     },
     "metadata": {},
     "output_type": "display_data"
    }
   ],
   "source": [
    "plt.style.use('dark_background')\n",
    "plt.figure(figsize=(10, 6))\n",
    "sns.barplot(data=best_results_df, x='Model', y='Best Score', palette=\"Set1\")\n",
    "plt.title('Best Cross-Validation Scores for All Models', fontsize=16, color='white')\n",
    "plt.xlabel('Model', color='white')\n",
    "plt.ylabel('Best Score', color='white')\n",
    "for index, row in best_results_df.iterrows():\n",
    "    plt.text(index, row['Best Score'] - 0.02, f'{row[\"Best Score\"]:.4f}', \n",
    "             color='white', ha=\"center\", va=\"center\", fontsize=12)\n",
    "plt.tight_layout()\n",
    "plt.show()"
   ]
  },
  {
   "cell_type": "code",
   "execution_count": 181,
   "id": "5ac82479",
   "metadata": {
    "execution": {
     "iopub.execute_input": "2024-09-11T19:21:50.260216Z",
     "iopub.status.busy": "2024-09-11T19:21:50.259412Z",
     "iopub.status.idle": "2024-09-11T19:21:50.320766Z",
     "shell.execute_reply": "2024-09-11T19:21:50.319773Z"
    },
    "papermill": {
     "duration": 0.088556,
     "end_time": "2024-09-11T19:21:50.323013",
     "exception": false,
     "start_time": "2024-09-11T19:21:50.234457",
     "status": "completed"
    },
    "tags": []
   },
   "outputs": [
    {
     "data": {
      "text/html": [
       "<style>#sk-container-id-2 {\n",
       "  /* Definition of color scheme common for light and dark mode */\n",
       "  --sklearn-color-text: black;\n",
       "  --sklearn-color-line: gray;\n",
       "  /* Definition of color scheme for unfitted estimators */\n",
       "  --sklearn-color-unfitted-level-0: #fff5e6;\n",
       "  --sklearn-color-unfitted-level-1: #f6e4d2;\n",
       "  --sklearn-color-unfitted-level-2: #ffe0b3;\n",
       "  --sklearn-color-unfitted-level-3: chocolate;\n",
       "  /* Definition of color scheme for fitted estimators */\n",
       "  --sklearn-color-fitted-level-0: #f0f8ff;\n",
       "  --sklearn-color-fitted-level-1: #d4ebff;\n",
       "  --sklearn-color-fitted-level-2: #b3dbfd;\n",
       "  --sklearn-color-fitted-level-3: cornflowerblue;\n",
       "\n",
       "  /* Specific color for light theme */\n",
       "  --sklearn-color-text-on-default-background: var(--sg-text-color, var(--theme-code-foreground, var(--jp-content-font-color1, black)));\n",
       "  --sklearn-color-background: var(--sg-background-color, var(--theme-background, var(--jp-layout-color0, white)));\n",
       "  --sklearn-color-border-box: var(--sg-text-color, var(--theme-code-foreground, var(--jp-content-font-color1, black)));\n",
       "  --sklearn-color-icon: #696969;\n",
       "\n",
       "  @media (prefers-color-scheme: dark) {\n",
       "    /* Redefinition of color scheme for dark theme */\n",
       "    --sklearn-color-text-on-default-background: var(--sg-text-color, var(--theme-code-foreground, var(--jp-content-font-color1, white)));\n",
       "    --sklearn-color-background: var(--sg-background-color, var(--theme-background, var(--jp-layout-color0, #111)));\n",
       "    --sklearn-color-border-box: var(--sg-text-color, var(--theme-code-foreground, var(--jp-content-font-color1, white)));\n",
       "    --sklearn-color-icon: #878787;\n",
       "  }\n",
       "}\n",
       "\n",
       "#sk-container-id-2 {\n",
       "  color: var(--sklearn-color-text);\n",
       "}\n",
       "\n",
       "#sk-container-id-2 pre {\n",
       "  padding: 0;\n",
       "}\n",
       "\n",
       "#sk-container-id-2 input.sk-hidden--visually {\n",
       "  border: 0;\n",
       "  clip: rect(1px 1px 1px 1px);\n",
       "  clip: rect(1px, 1px, 1px, 1px);\n",
       "  height: 1px;\n",
       "  margin: -1px;\n",
       "  overflow: hidden;\n",
       "  padding: 0;\n",
       "  position: absolute;\n",
       "  width: 1px;\n",
       "}\n",
       "\n",
       "#sk-container-id-2 div.sk-dashed-wrapped {\n",
       "  border: 1px dashed var(--sklearn-color-line);\n",
       "  margin: 0 0.4em 0.5em 0.4em;\n",
       "  box-sizing: border-box;\n",
       "  padding-bottom: 0.4em;\n",
       "  background-color: var(--sklearn-color-background);\n",
       "}\n",
       "\n",
       "#sk-container-id-2 div.sk-container {\n",
       "  /* jupyter's `normalize.less` sets `[hidden] { display: none; }`\n",
       "     but bootstrap.min.css set `[hidden] { display: none !important; }`\n",
       "     so we also need the `!important` here to be able to override the\n",
       "     default hidden behavior on the sphinx rendered scikit-learn.org.\n",
       "     See: https://github.com/scikit-learn/scikit-learn/issues/21755 */\n",
       "  display: inline-block !important;\n",
       "  position: relative;\n",
       "}\n",
       "\n",
       "#sk-container-id-2 div.sk-text-repr-fallback {\n",
       "  display: none;\n",
       "}\n",
       "\n",
       "div.sk-parallel-item,\n",
       "div.sk-serial,\n",
       "div.sk-item {\n",
       "  /* draw centered vertical line to link estimators */\n",
       "  background-image: linear-gradient(var(--sklearn-color-text-on-default-background), var(--sklearn-color-text-on-default-background));\n",
       "  background-size: 2px 100%;\n",
       "  background-repeat: no-repeat;\n",
       "  background-position: center center;\n",
       "}\n",
       "\n",
       "/* Parallel-specific style estimator block */\n",
       "\n",
       "#sk-container-id-2 div.sk-parallel-item::after {\n",
       "  content: \"\";\n",
       "  width: 100%;\n",
       "  border-bottom: 2px solid var(--sklearn-color-text-on-default-background);\n",
       "  flex-grow: 1;\n",
       "}\n",
       "\n",
       "#sk-container-id-2 div.sk-parallel {\n",
       "  display: flex;\n",
       "  align-items: stretch;\n",
       "  justify-content: center;\n",
       "  background-color: var(--sklearn-color-background);\n",
       "  position: relative;\n",
       "}\n",
       "\n",
       "#sk-container-id-2 div.sk-parallel-item {\n",
       "  display: flex;\n",
       "  flex-direction: column;\n",
       "}\n",
       "\n",
       "#sk-container-id-2 div.sk-parallel-item:first-child::after {\n",
       "  align-self: flex-end;\n",
       "  width: 50%;\n",
       "}\n",
       "\n",
       "#sk-container-id-2 div.sk-parallel-item:last-child::after {\n",
       "  align-self: flex-start;\n",
       "  width: 50%;\n",
       "}\n",
       "\n",
       "#sk-container-id-2 div.sk-parallel-item:only-child::after {\n",
       "  width: 0;\n",
       "}\n",
       "\n",
       "/* Serial-specific style estimator block */\n",
       "\n",
       "#sk-container-id-2 div.sk-serial {\n",
       "  display: flex;\n",
       "  flex-direction: column;\n",
       "  align-items: center;\n",
       "  background-color: var(--sklearn-color-background);\n",
       "  padding-right: 1em;\n",
       "  padding-left: 1em;\n",
       "}\n",
       "\n",
       "\n",
       "/* Toggleable style: style used for estimator/Pipeline/ColumnTransformer box that is\n",
       "clickable and can be expanded/collapsed.\n",
       "- Pipeline and ColumnTransformer use this feature and define the default style\n",
       "- Estimators will overwrite some part of the style using the `sk-estimator` class\n",
       "*/\n",
       "\n",
       "/* Pipeline and ColumnTransformer style (default) */\n",
       "\n",
       "#sk-container-id-2 div.sk-toggleable {\n",
       "  /* Default theme specific background. It is overwritten whether we have a\n",
       "  specific estimator or a Pipeline/ColumnTransformer */\n",
       "  background-color: var(--sklearn-color-background);\n",
       "}\n",
       "\n",
       "/* Toggleable label */\n",
       "#sk-container-id-2 label.sk-toggleable__label {\n",
       "  cursor: pointer;\n",
       "  display: block;\n",
       "  width: 100%;\n",
       "  margin-bottom: 0;\n",
       "  padding: 0.5em;\n",
       "  box-sizing: border-box;\n",
       "  text-align: center;\n",
       "}\n",
       "\n",
       "#sk-container-id-2 label.sk-toggleable__label-arrow:before {\n",
       "  /* Arrow on the left of the label */\n",
       "  content: \"▸\";\n",
       "  float: left;\n",
       "  margin-right: 0.25em;\n",
       "  color: var(--sklearn-color-icon);\n",
       "}\n",
       "\n",
       "#sk-container-id-2 label.sk-toggleable__label-arrow:hover:before {\n",
       "  color: var(--sklearn-color-text);\n",
       "}\n",
       "\n",
       "/* Toggleable content - dropdown */\n",
       "\n",
       "#sk-container-id-2 div.sk-toggleable__content {\n",
       "  max-height: 0;\n",
       "  max-width: 0;\n",
       "  overflow: hidden;\n",
       "  text-align: left;\n",
       "  /* unfitted */\n",
       "  background-color: var(--sklearn-color-unfitted-level-0);\n",
       "}\n",
       "\n",
       "#sk-container-id-2 div.sk-toggleable__content.fitted {\n",
       "  /* fitted */\n",
       "  background-color: var(--sklearn-color-fitted-level-0);\n",
       "}\n",
       "\n",
       "#sk-container-id-2 div.sk-toggleable__content pre {\n",
       "  margin: 0.2em;\n",
       "  border-radius: 0.25em;\n",
       "  color: var(--sklearn-color-text);\n",
       "  /* unfitted */\n",
       "  background-color: var(--sklearn-color-unfitted-level-0);\n",
       "}\n",
       "\n",
       "#sk-container-id-2 div.sk-toggleable__content.fitted pre {\n",
       "  /* unfitted */\n",
       "  background-color: var(--sklearn-color-fitted-level-0);\n",
       "}\n",
       "\n",
       "#sk-container-id-2 input.sk-toggleable__control:checked~div.sk-toggleable__content {\n",
       "  /* Expand drop-down */\n",
       "  max-height: 200px;\n",
       "  max-width: 100%;\n",
       "  overflow: auto;\n",
       "}\n",
       "\n",
       "#sk-container-id-2 input.sk-toggleable__control:checked~label.sk-toggleable__label-arrow:before {\n",
       "  content: \"▾\";\n",
       "}\n",
       "\n",
       "/* Pipeline/ColumnTransformer-specific style */\n",
       "\n",
       "#sk-container-id-2 div.sk-label input.sk-toggleable__control:checked~label.sk-toggleable__label {\n",
       "  color: var(--sklearn-color-text);\n",
       "  background-color: var(--sklearn-color-unfitted-level-2);\n",
       "}\n",
       "\n",
       "#sk-container-id-2 div.sk-label.fitted input.sk-toggleable__control:checked~label.sk-toggleable__label {\n",
       "  background-color: var(--sklearn-color-fitted-level-2);\n",
       "}\n",
       "\n",
       "/* Estimator-specific style */\n",
       "\n",
       "/* Colorize estimator box */\n",
       "#sk-container-id-2 div.sk-estimator input.sk-toggleable__control:checked~label.sk-toggleable__label {\n",
       "  /* unfitted */\n",
       "  background-color: var(--sklearn-color-unfitted-level-2);\n",
       "}\n",
       "\n",
       "#sk-container-id-2 div.sk-estimator.fitted input.sk-toggleable__control:checked~label.sk-toggleable__label {\n",
       "  /* fitted */\n",
       "  background-color: var(--sklearn-color-fitted-level-2);\n",
       "}\n",
       "\n",
       "#sk-container-id-2 div.sk-label label.sk-toggleable__label,\n",
       "#sk-container-id-2 div.sk-label label {\n",
       "  /* The background is the default theme color */\n",
       "  color: var(--sklearn-color-text-on-default-background);\n",
       "}\n",
       "\n",
       "/* On hover, darken the color of the background */\n",
       "#sk-container-id-2 div.sk-label:hover label.sk-toggleable__label {\n",
       "  color: var(--sklearn-color-text);\n",
       "  background-color: var(--sklearn-color-unfitted-level-2);\n",
       "}\n",
       "\n",
       "/* Label box, darken color on hover, fitted */\n",
       "#sk-container-id-2 div.sk-label.fitted:hover label.sk-toggleable__label.fitted {\n",
       "  color: var(--sklearn-color-text);\n",
       "  background-color: var(--sklearn-color-fitted-level-2);\n",
       "}\n",
       "\n",
       "/* Estimator label */\n",
       "\n",
       "#sk-container-id-2 div.sk-label label {\n",
       "  font-family: monospace;\n",
       "  font-weight: bold;\n",
       "  display: inline-block;\n",
       "  line-height: 1.2em;\n",
       "}\n",
       "\n",
       "#sk-container-id-2 div.sk-label-container {\n",
       "  text-align: center;\n",
       "}\n",
       "\n",
       "/* Estimator-specific */\n",
       "#sk-container-id-2 div.sk-estimator {\n",
       "  font-family: monospace;\n",
       "  border: 1px dotted var(--sklearn-color-border-box);\n",
       "  border-radius: 0.25em;\n",
       "  box-sizing: border-box;\n",
       "  margin-bottom: 0.5em;\n",
       "  /* unfitted */\n",
       "  background-color: var(--sklearn-color-unfitted-level-0);\n",
       "}\n",
       "\n",
       "#sk-container-id-2 div.sk-estimator.fitted {\n",
       "  /* fitted */\n",
       "  background-color: var(--sklearn-color-fitted-level-0);\n",
       "}\n",
       "\n",
       "/* on hover */\n",
       "#sk-container-id-2 div.sk-estimator:hover {\n",
       "  /* unfitted */\n",
       "  background-color: var(--sklearn-color-unfitted-level-2);\n",
       "}\n",
       "\n",
       "#sk-container-id-2 div.sk-estimator.fitted:hover {\n",
       "  /* fitted */\n",
       "  background-color: var(--sklearn-color-fitted-level-2);\n",
       "}\n",
       "\n",
       "/* Specification for estimator info (e.g. \"i\" and \"?\") */\n",
       "\n",
       "/* Common style for \"i\" and \"?\" */\n",
       "\n",
       ".sk-estimator-doc-link,\n",
       "a:link.sk-estimator-doc-link,\n",
       "a:visited.sk-estimator-doc-link {\n",
       "  float: right;\n",
       "  font-size: smaller;\n",
       "  line-height: 1em;\n",
       "  font-family: monospace;\n",
       "  background-color: var(--sklearn-color-background);\n",
       "  border-radius: 1em;\n",
       "  height: 1em;\n",
       "  width: 1em;\n",
       "  text-decoration: none !important;\n",
       "  margin-left: 1ex;\n",
       "  /* unfitted */\n",
       "  border: var(--sklearn-color-unfitted-level-1) 1pt solid;\n",
       "  color: var(--sklearn-color-unfitted-level-1);\n",
       "}\n",
       "\n",
       ".sk-estimator-doc-link.fitted,\n",
       "a:link.sk-estimator-doc-link.fitted,\n",
       "a:visited.sk-estimator-doc-link.fitted {\n",
       "  /* fitted */\n",
       "  border: var(--sklearn-color-fitted-level-1) 1pt solid;\n",
       "  color: var(--sklearn-color-fitted-level-1);\n",
       "}\n",
       "\n",
       "/* On hover */\n",
       "div.sk-estimator:hover .sk-estimator-doc-link:hover,\n",
       ".sk-estimator-doc-link:hover,\n",
       "div.sk-label-container:hover .sk-estimator-doc-link:hover,\n",
       ".sk-estimator-doc-link:hover {\n",
       "  /* unfitted */\n",
       "  background-color: var(--sklearn-color-unfitted-level-3);\n",
       "  color: var(--sklearn-color-background);\n",
       "  text-decoration: none;\n",
       "}\n",
       "\n",
       "div.sk-estimator.fitted:hover .sk-estimator-doc-link.fitted:hover,\n",
       ".sk-estimator-doc-link.fitted:hover,\n",
       "div.sk-label-container:hover .sk-estimator-doc-link.fitted:hover,\n",
       ".sk-estimator-doc-link.fitted:hover {\n",
       "  /* fitted */\n",
       "  background-color: var(--sklearn-color-fitted-level-3);\n",
       "  color: var(--sklearn-color-background);\n",
       "  text-decoration: none;\n",
       "}\n",
       "\n",
       "/* Span, style for the box shown on hovering the info icon */\n",
       ".sk-estimator-doc-link span {\n",
       "  display: none;\n",
       "  z-index: 9999;\n",
       "  position: relative;\n",
       "  font-weight: normal;\n",
       "  right: .2ex;\n",
       "  padding: .5ex;\n",
       "  margin: .5ex;\n",
       "  width: min-content;\n",
       "  min-width: 20ex;\n",
       "  max-width: 50ex;\n",
       "  color: var(--sklearn-color-text);\n",
       "  box-shadow: 2pt 2pt 4pt #999;\n",
       "  /* unfitted */\n",
       "  background: var(--sklearn-color-unfitted-level-0);\n",
       "  border: .5pt solid var(--sklearn-color-unfitted-level-3);\n",
       "}\n",
       "\n",
       ".sk-estimator-doc-link.fitted span {\n",
       "  /* fitted */\n",
       "  background: var(--sklearn-color-fitted-level-0);\n",
       "  border: var(--sklearn-color-fitted-level-3);\n",
       "}\n",
       "\n",
       ".sk-estimator-doc-link:hover span {\n",
       "  display: block;\n",
       "}\n",
       "\n",
       "/* \"?\"-specific style due to the `<a>` HTML tag */\n",
       "\n",
       "#sk-container-id-2 a.estimator_doc_link {\n",
       "  float: right;\n",
       "  font-size: 1rem;\n",
       "  line-height: 1em;\n",
       "  font-family: monospace;\n",
       "  background-color: var(--sklearn-color-background);\n",
       "  border-radius: 1rem;\n",
       "  height: 1rem;\n",
       "  width: 1rem;\n",
       "  text-decoration: none;\n",
       "  /* unfitted */\n",
       "  color: var(--sklearn-color-unfitted-level-1);\n",
       "  border: var(--sklearn-color-unfitted-level-1) 1pt solid;\n",
       "}\n",
       "\n",
       "#sk-container-id-2 a.estimator_doc_link.fitted {\n",
       "  /* fitted */\n",
       "  border: var(--sklearn-color-fitted-level-1) 1pt solid;\n",
       "  color: var(--sklearn-color-fitted-level-1);\n",
       "}\n",
       "\n",
       "/* On hover */\n",
       "#sk-container-id-2 a.estimator_doc_link:hover {\n",
       "  /* unfitted */\n",
       "  background-color: var(--sklearn-color-unfitted-level-3);\n",
       "  color: var(--sklearn-color-background);\n",
       "  text-decoration: none;\n",
       "}\n",
       "\n",
       "#sk-container-id-2 a.estimator_doc_link.fitted:hover {\n",
       "  /* fitted */\n",
       "  background-color: var(--sklearn-color-fitted-level-3);\n",
       "}\n",
       "</style><div id=\"sk-container-id-2\" class=\"sk-top-container\"><div class=\"sk-text-repr-fallback\"><pre>RandomForestClassifier(n_estimators=10)</pre><b>In a Jupyter environment, please rerun this cell to show the HTML representation or trust the notebook. <br />On GitHub, the HTML representation is unable to render, please try loading this page with nbviewer.org.</b></div><div class=\"sk-container\" hidden><div class=\"sk-item\"><div class=\"sk-estimator fitted sk-toggleable\"><input class=\"sk-toggleable__control sk-hidden--visually\" id=\"sk-estimator-id-2\" type=\"checkbox\" checked><label for=\"sk-estimator-id-2\" class=\"sk-toggleable__label fitted sk-toggleable__label-arrow fitted\">&nbsp;&nbsp;RandomForestClassifier<a class=\"sk-estimator-doc-link fitted\" rel=\"noreferrer\" target=\"_blank\" href=\"https://scikit-learn.org/1.4/modules/generated/sklearn.ensemble.RandomForestClassifier.html\">?<span>Documentation for RandomForestClassifier</span></a><span class=\"sk-estimator-doc-link fitted\">i<span>Fitted</span></span></label><div class=\"sk-toggleable__content fitted\"><pre>RandomForestClassifier(n_estimators=10)</pre></div> </div></div></div></div>"
      ],
      "text/plain": [
       "RandomForestClassifier(n_estimators=10)"
      ]
     },
     "execution_count": 181,
     "metadata": {},
     "output_type": "execute_result"
    }
   ],
   "source": [
    "########## Best Model Training\n",
    "model = RandomForestClassifier(max_depth = None, min_samples_split = 2, n_estimators = 10)\n",
    "model.fit(X_train, y_train)"
   ]
  },
  {
   "cell_type": "code",
   "execution_count": 182,
   "id": "7082a481",
   "metadata": {
    "execution": {
     "iopub.execute_input": "2024-09-11T19:21:50.372205Z",
     "iopub.status.busy": "2024-09-11T19:21:50.371466Z",
     "iopub.status.idle": "2024-09-11T19:21:50.414011Z",
     "shell.execute_reply": "2024-09-11T19:21:50.413067Z"
    },
    "papermill": {
     "duration": 0.069215,
     "end_time": "2024-09-11T19:21:50.415967",
     "exception": false,
     "start_time": "2024-09-11T19:21:50.346752",
     "status": "completed"
    },
    "tags": []
   },
   "outputs": [
    {
     "name": "stdout",
     "output_type": "stream",
     "text": [
      "Training Accuracy: 1.00\n",
      "Training Precision: 1.00\n",
      "Training Recall: 1.00\n",
      "Training F1-Score: 1.00\n",
      "---\n",
      "Test Accuracy: 1.00\n",
      "Test Precision: 1.00\n",
      "Test Recall: 1.00\n",
      "Test F1-Score: 1.00\n"
     ]
    }
   ],
   "source": [
    "### Evaluate the model\n",
    "y_train_pred = model.predict(X_train)\n",
    "y_test_pred = model.predict(X_test)\n",
    "train_accuracy = accuracy_score(y_train, y_train_pred)\n",
    "train_precision = precision_score(y_train, y_train_pred,average='micro')  \n",
    "train_recall = recall_score(y_train, y_train_pred,average='micro')  \n",
    "train_f1 = f1_score(y_train, y_train_pred,average='micro')  \n",
    "test_accuracy = accuracy_score(y_test, y_test_pred)\n",
    "test_precision = precision_score(y_test, y_test_pred,average='micro') \n",
    "test_recall = recall_score(y_test, y_test_pred,average='micro')  \n",
    "test_f1 = f1_score(y_test, y_test_pred,average='micro') \n",
    "print(f'Training Accuracy: {train_accuracy:.2f}')\n",
    "print(f'Training Precision: {train_precision:.2f}')\n",
    "print(f'Training Recall: {train_recall:.2f}')\n",
    "print(f'Training F1-Score: {train_f1:.2f}')\n",
    "print('---')\n",
    "print(f'Test Accuracy: {test_accuracy:.2f}')\n",
    "print(f'Test Precision: {test_precision:.2f}')\n",
    "print(f'Test Recall: {test_recall:.2f}')\n",
    "print(f'Test F1-Score: {test_f1:.2f}')"
   ]
  },
  {
   "cell_type": "code",
   "execution_count": 183,
   "id": "1368e5c1",
   "metadata": {
    "execution": {
     "iopub.execute_input": "2024-09-11T19:21:50.465306Z",
     "iopub.status.busy": "2024-09-11T19:21:50.464607Z",
     "iopub.status.idle": "2024-09-11T19:21:54.066147Z",
     "shell.execute_reply": "2024-09-11T19:21:54.065191Z"
    },
    "papermill": {
     "duration": 3.629729,
     "end_time": "2024-09-11T19:21:54.069782",
     "exception": false,
     "start_time": "2024-09-11T19:21:50.440053",
     "status": "completed"
    },
    "tags": []
   },
   "outputs": [
    {
     "name": "stdout",
     "output_type": "stream",
     "text": [
      "Confusion Matrix is : \n",
      " [[24  0  0 ...  0  0  0]\n",
      " [ 0 24  0 ...  0  0  0]\n",
      " [ 0  0 24 ...  0  0  0]\n",
      " ...\n",
      " [ 0  0  0 ... 24  0  0]\n",
      " [ 0  0  0 ...  0 24  0]\n",
      " [ 0  0  0 ...  0  0 24]]\n"
     ]
    },
    {
     "data": {
      "image/png": "[encoded data removed]",
      "text/plain": [
       "<Figure size 2000x1000 with 2 Axes>"
      ]
     },
     "metadata": {},
     "output_type": "display_data"
    }
   ],
   "source": [
    "### Check model\n",
    "CM = confusion_matrix(y_test, y_test_pred)\n",
    "print('Confusion Matrix is : \\n', CM)\n",
    "plt.figure(figsize=(20,10))\n",
    "sns.heatmap(data=CM, annot=True,fmt='g', cmap=\"Blues\", xticklabels=names, yticklabels=names)\n",
    "plt.xlabel('Predicted values')\n",
    "plt.ylabel('Actual values')\n",
    "plt.title(f'Confusion Matrix for {best_model_name} Algorithm')\n",
    "plt.show()"
   ]
  },
  {
   "cell_type": "code",
   "execution_count": 184,
   "id": "85f38d9b",
   "metadata": {
    "execution": {
     "iopub.execute_input": "2024-09-11T19:21:54.128498Z",
     "iopub.status.busy": "2024-09-11T19:21:54.127875Z",
     "iopub.status.idle": "2024-09-11T19:21:54.142570Z",
     "shell.execute_reply": "2024-09-11T19:21:54.141411Z"
    },
    "papermill": {
     "duration": 0.045677,
     "end_time": "2024-09-11T19:21:54.144468",
     "exception": false,
     "start_time": "2024-09-11T19:21:54.098791",
     "status": "completed"
    },
    "tags": []
   },
   "outputs": [
    {
     "name": "stdout",
     "output_type": "stream",
     "text": [
      "Classification Report is :                                      precision    recall  f1-score   support\n",
      "\n",
      "                     Infeksi jamur       1.00      1.00      1.00        24\n",
      "                            Alergi       1.00      1.00      1.00        24\n",
      "                     Penyakit GERD       1.00      1.00      1.00        24\n",
      "                 Kolestasis kronis       1.00      1.00      1.00        24\n",
      "                       Reaksi Obat       1.00      1.00      1.00        24\n",
      "            Penyakit tukak lambung       1.00      1.00      1.00        24\n",
      "                              AIDS       1.00      1.00      1.00        24\n",
      "                          Diabetes       1.00      1.00      1.00        24\n",
      "                      Radang perut       1.00      1.00      1.00        24\n",
      "                     Asma Bronkial       1.00      1.00      1.00        24\n",
      "                        Hipertensi       1.00      1.00      1.00        24\n",
      "                           Migrain       1.00      1.00      1.00        24\n",
      "               Spondilosis serviks       1.00      1.00      1.00        24\n",
      "      Kelumpuhan (pendarahan otak)       1.00      1.00      1.00        24\n",
      "                   Penyakit kuning       1.00      1.00      1.00        24\n",
      "                           Malaria       1.00      1.00      1.00        24\n",
      "                         Cacar air       1.00      1.00      1.00        24\n",
      "                    Demam Berdarah       1.00      1.00      1.00        24\n",
      "                    Penyakit tipus       1.00      1.00      1.00        24\n",
      "              penyakit hepatitis A       1.00      1.00      1.00        24\n",
      "              Penyakit Hepatitis B       1.00      1.00      1.00        24\n",
      "              Penyakit Hepatitis C       1.00      1.00      1.00        24\n",
      "             Penyakit Hepatitis D.       1.00      1.00      1.00        24\n",
      "                       Hepatitis E       1.00      1.00      1.00        24\n",
      "               Hepatitis alkoholik       1.00      1.00      1.00        24\n",
      "                      Tuberkulosis       1.00      1.00      1.00        24\n",
      "                         Flu biasa       1.00      1.00      1.00        24\n",
      "                  Radang paru-paru       1.00      1.00      1.00        24\n",
      "          Wasir dimorfik (ambeien)       1.00      1.00      1.00        24\n",
      "                  Serangan jantung       1.00      1.00      1.00        24\n",
      "                    Pembuluh mekar       1.00      1.00      1.00        24\n",
      "                    Hipotiroidisme       1.00      1.00      1.00        24\n",
      "                   Hipertiroidisme       1.00      1.00      1.00        24\n",
      "                      Hipoglikemia       1.00      1.00      1.00        24\n",
      "                     Osteoartritis       1.00      1.00      1.00        24\n",
      "                      Radang sendi       1.00      1.00      1.00        24\n",
      "(vertigo) Vertigo Posisi Paroymsal       1.00      1.00      1.00        24\n",
      "                           Jerawat       1.00      1.00      1.00        24\n",
      "             Infeksi saluran kemih       1.00      1.00      1.00        24\n",
      "                         Psoriasis       1.00      1.00      1.00        24\n",
      "                          Impetigo       1.00      1.00      1.00        24\n",
      "\n",
      "                          accuracy                           1.00       984\n",
      "                         macro avg       1.00      1.00      1.00       984\n",
      "                      weighted avg       1.00      1.00      1.00       984\n",
      "\n"
     ]
    }
   ],
   "source": [
    "ClassificationReport = classification_report(y_test,y_test_pred,target_names=names)\n",
    "print('Classification Report is : ', ClassificationReport )"
   ]
  },
  {
   "cell_type": "code",
   "execution_count": 185,
   "id": "5261a790",
   "metadata": {
    "execution": {
     "iopub.execute_input": "2024-09-11T19:21:54.203629Z",
     "iopub.status.busy": "2024-09-11T19:21:54.202947Z",
     "iopub.status.idle": "2024-09-11T19:21:54.208830Z",
     "shell.execute_reply": "2024-09-11T19:21:54.208074Z"
    },
    "papermill": {
     "duration": 0.037624,
     "end_time": "2024-09-11T19:21:54.210817",
     "exception": false,
     "start_time": "2024-09-11T19:21:54.173193",
     "status": "completed"
    },
    "tags": []
   },
   "outputs": [],
   "source": [
    "pickle.dump(model,open('random_indo.pkl','wb'))"
   ]
  },
  {
   "cell_type": "code",
   "execution_count": 186,
   "id": "1a5e3855",
   "metadata": {},
   "outputs": [
    {
     "name": "stdout",
     "output_type": "stream",
     "text": [
      "Cross-validating RandomForest...\n",
      "Mean accuracy for RandomForest: 1.0000\n",
      "RandomForest model saved to RandomForest_model.pkl.\n",
      "Cross-validating XGBoost...\n",
      "Mean accuracy for XGBoost: 0.9990\n",
      "XGBoost model saved to XGBoost_model.pkl.\n",
      "Cross-validating LGBM...\n",
      "Mean accuracy for LGBM: 0.9990\n",
      "LGBM model saved to LGBM_model.pkl.\n",
      "Cross-validating DecisionTree...\n",
      "Mean accuracy for DecisionTree: 0.9985\n",
      "DecisionTree model saved to DecisionTree_model.pkl.\n",
      "Cross-validating KNN...\n",
      "Mean accuracy for KNN: 1.0000\n",
      "KNN model saved to KNN_model.pkl.\n",
      "Cross-validating SVC...\n",
      "Mean accuracy for SVC: 1.0000\n",
      "SVC model saved to SVC_model.pkl.\n",
      "Cross-validating LogisticRegression...\n",
      "Mean accuracy for LogisticRegression: 1.0000\n",
      "LogisticRegression model saved to LogisticRegression_model.pkl.\n"
     ]
    }
   ],
   "source": [
    "\n",
    "for model_name, model in models.items():\n",
    "    print(f\"Cross-validating {model_name}...\")\n",
    "    \n",
    "    # Cross-validate and get the mean accuracy\n",
    "    cv_scores = cross_val_score(model, X_train, y_train, cv=5, scoring='accuracy', n_jobs=-1)\n",
    "    cv_results[model_name] = cv_scores.mean()\n",
    "    print(f\"Mean accuracy for {model_name}: {cv_scores.mean():.4f}\")\n",
    "    \n",
    "    # Train the model on the full training set\n",
    "    model.fit(X_train, y_train)\n",
    "    \n",
    "    # Save each model to a separate pickle file\n",
    "    filename = f\"{model_name}_model.pkl\"\n",
    "    with open(filename, 'wb') as file:\n",
    "        pickle.dump(model, file)\n",
    "    print(f\"{model_name} model saved to {filename}.\")\n"
   ]
  },
  {
   "cell_type": "code",
   "execution_count": 187,
   "id": "4847c5f4",
   "metadata": {},
   "outputs": [
    {
     "name": "stdout",
     "output_type": "stream",
     "text": [
      "Cross-validating RandomForest...\n",
      "Mean accuracy for RandomForest: 1.0000\n",
      "Training time for RandomForest: 1.4287 seconds\n",
      "Cross-validating XGBoost...\n",
      "Mean accuracy for XGBoost: 0.9990\n",
      "Training time for XGBoost: 22.2681 seconds\n",
      "Cross-validating LGBM...\n",
      "Mean accuracy for LGBM: 0.9990\n",
      "Training time for LGBM: 17.0495 seconds\n",
      "Cross-validating DecisionTree...\n",
      "Mean accuracy for DecisionTree: 0.9985\n",
      "Training time for DecisionTree: 0.2469 seconds\n",
      "Cross-validating KNN...\n",
      "Mean accuracy for KNN: 1.0000\n",
      "Training time for KNN: 0.3702 seconds\n",
      "Cross-validating SVC...\n",
      "Mean accuracy for SVC: 1.0000\n",
      "Training time for SVC: 0.9317 seconds\n",
      "Cross-validating LogisticRegression...\n",
      "Mean accuracy for LogisticRegression: 1.0000\n",
      "Training time for LogisticRegression: 0.7091 seconds\n"
     ]
    },
    {
     "data": {
      "image/png": "[encoded data removed]",
      "text/plain": [
       "<Figure size 1000x600 with 1 Axes>"
      ]
     },
     "metadata": {},
     "output_type": "display_data"
    }
   ],
   "source": [
    "import pickle\n",
    "import time\n",
    "import matplotlib.pyplot as plt\n",
    "from sklearn.ensemble import RandomForestClassifier\n",
    "from xgboost import XGBClassifier\n",
    "from lightgbm import LGBMClassifier\n",
    "from sklearn.tree import DecisionTreeClassifier\n",
    "from sklearn.neighbors import KNeighborsClassifier\n",
    "from sklearn.svm import SVC\n",
    "from sklearn.linear_model import LogisticRegression\n",
    "from sklearn.model_selection import cross_val_score\n",
    "\n",
    "# Define the models\n",
    "models = {\n",
    "    'RandomForest': RandomForestClassifier(),\n",
    "    'XGBoost': XGBClassifier(),\n",
    "    'LGBM': LGBMClassifier(verbose=-1),\n",
    "    'DecisionTree': DecisionTreeClassifier(),\n",
    "    'KNN': KNeighborsClassifier(),\n",
    "    'SVC': SVC(),\n",
    "    'LogisticRegression': LogisticRegression()\n",
    "}\n",
    "\n",
    "# Dictionary to store validation scores and training times\n",
    "cv_results = {}\n",
    "training_times = {}\n",
    "\n",
    "for model_name, model in models.items():\n",
    "    print(f\"Cross-validating {model_name}...\")\n",
    "    \n",
    "    # Measure training time\n",
    "    start_time = time.time()\n",
    "    cv_scores = cross_val_score(model, X_train, y_train, cv=5, scoring='accuracy', n_jobs=-1)\n",
    "    model.fit(X_train, y_train)\n",
    "    end_time = time.time()\n",
    "    \n",
    "    # Calculate mean accuracy and training time\n",
    "    cv_results[model_name] = cv_scores.mean()\n",
    "    training_times[model_name] = end_time - start_time\n",
    "    print(f\"Mean accuracy for {model_name}: {cv_scores.mean():.4f}\")\n",
    "    print(f\"Training time for {model_name}: {training_times[model_name]:.4f} seconds\")\n",
    "    \n",
    "    # # Save each model to a pickle file\n",
    "    # filename = f\"{model_name}_model.pkl\"\n",
    "    # with open(filename, 'wb') as file:\n",
    "    #     pickle.dump(model, file)\n",
    "    # print(f\"{model_name} model saved to {filename}.\")\n",
    "\n",
    "# Plotting training times\n",
    "plt.figure(figsize=(10, 6))\n",
    "plt.bar(training_times.keys(), training_times.values(), color='skyblue')\n",
    "plt.xlabel('Model')\n",
    "plt.ylabel('Training Time (seconds)')\n",
    "plt.title('Training Time for Each Model')\n",
    "plt.xticks(rotation=45)\n",
    "plt.show()\n"
   ]
  },
  {
   "cell_type": "code",
   "execution_count": 188,
   "id": "70cf205f",
   "metadata": {},
   "outputs": [
    {
     "name": "stdout",
     "output_type": "stream",
     "text": [
      "Cross-validating RandomForest...\n"
     ]
    },
    {
     "name": "stdout",
     "output_type": "stream",
     "text": [
      "Mean accuracy for RandomForest: 1.0000\n",
      "Training time for RandomForest: 1.9789 seconds\n",
      "Peak memory usage for RandomForest: 290.3359 MB\n",
      "Cross-validating XGBoost...\n",
      "Mean accuracy for XGBoost: 1.0000\n",
      "Training time for XGBoost: 20.1799 seconds\n",
      "Peak memory usage for XGBoost: 297.9141 MB\n",
      "Cross-validating LGBM...\n",
      "Mean accuracy for LGBM: 1.0000\n",
      "Training time for LGBM: 16.0390 seconds\n",
      "Peak memory usage for LGBM: 305.7695 MB\n",
      "Cross-validating DecisionTree...\n",
      "Mean accuracy for DecisionTree: 1.0000\n",
      "Training time for DecisionTree: 1.2281 seconds\n",
      "Peak memory usage for DecisionTree: 299.4414 MB\n",
      "Cross-validating KNN...\n",
      "Mean accuracy for KNN: 1.0000\n",
      "Training time for KNN: 1.2757 seconds\n",
      "Peak memory usage for KNN: 299.5703 MB\n",
      "Cross-validating SVC...\n",
      "Mean accuracy for SVC: 1.0000\n",
      "Training time for SVC: 1.6563 seconds\n",
      "Peak memory usage for SVC: 303.5625 MB\n",
      "Cross-validating LogisticRegression...\n",
      "Mean accuracy for LogisticRegression: 1.0000\n",
      "Training time for LogisticRegression: 1.4689 seconds\n",
      "Peak memory usage for LogisticRegression: 304.3320 MB\n"
     ]
    },
    {
     "data": {
      "image/png": "[encoded data removed]",
      "text/plain": [
       "<Figure size 1000x600 with 1 Axes>"
      ]
     },
     "metadata": {},
     "output_type": "display_data"
    },
    {
     "data": {
      "image/png": "[encoded data removed]",
      "text/plain": [
       "<Figure size 1000x600 with 1 Axes>"
      ]
     },
     "metadata": {},
     "output_type": "display_data"
    }
   ],
   "source": [
    "import pickle\n",
    "import time\n",
    "import matplotlib.pyplot as plt\n",
    "from memory_profiler import memory_usage\n",
    "from sklearn.ensemble import RandomForestClassifier\n",
    "from xgboost import XGBClassifier\n",
    "from lightgbm import LGBMClassifier\n",
    "from sklearn.tree import DecisionTreeClassifier\n",
    "from sklearn.neighbors import KNeighborsClassifier\n",
    "from sklearn.svm import SVC\n",
    "from sklearn.linear_model import LogisticRegression\n",
    "from sklearn.model_selection import cross_val_score\n",
    "\n",
    "# Define the models\n",
    "models = {\n",
    "    'RandomForest': RandomForestClassifier(),\n",
    "    'XGBoost': XGBClassifier(),\n",
    "    'LGBM': LGBMClassifier(verbose=-1),\n",
    "    'DecisionTree': DecisionTreeClassifier(),\n",
    "    'KNN': KNeighborsClassifier(),\n",
    "    'SVC': SVC(),\n",
    "    'LogisticRegression': LogisticRegression()\n",
    "}\n",
    "\n",
    "# Dictionaries to store validation scores, training times, and memory usage\n",
    "cv_results = {}\n",
    "training_times = {}\n",
    "memory_usages = {}\n",
    "\n",
    "for model_name, model in models.items():\n",
    "    print(f\"Cross-validating {model_name}...\")\n",
    "    \n",
    "    # Measure training time and memory usage\n",
    "    start_time = time.time()\n",
    "    mem_usage = memory_usage((cross_val_score, (model, X_train, y_train), {'cv': 5, 'scoring': 'accuracy', 'n_jobs': -1}), interval=0.1)\n",
    "    training_time = time.time() - start_time\n",
    "    \n",
    "    # Train model on full dataset\n",
    "    model.fit(X_train, y_train)\n",
    "    \n",
    "    # Save results\n",
    "    cv_results[model_name] = cv_scores.mean()\n",
    "    training_times[model_name] = training_time\n",
    "    memory_usages[model_name] = max(mem_usage)  # Peak memory usage\n",
    "    print(f\"Mean accuracy for {model_name}: {cv_results[model_name]:.4f}\")\n",
    "    print(f\"Training time for {model_name}: {training_time:.4f} seconds\")\n",
    "    print(f\"Peak memory usage for {model_name}: {memory_usages[model_name]:.4f} MB\")\n",
    "    \n",
    "    # # Save each model to a pickle file\n",
    "    # filename = f\"{model_name}_model.pkl\"\n",
    "    # with open(filename, 'wb') as file:\n",
    "    #     pickle.dump(model, file)\n",
    "    # print(f\"{model_name} model saved to {filename}.\")\n",
    "\n",
    "# Plotting Training Time\n",
    "plt.figure(figsize=(10, 6))\n",
    "plt.bar(training_times.keys(), training_times.values(), color='skyblue')\n",
    "plt.xlabel('Model')\n",
    "plt.ylabel('Training Time (seconds)')\n",
    "plt.title('Training Time for Each Model')\n",
    "plt.xticks(rotation=45)\n",
    "for index, value in enumerate(training_times.values()):\n",
    "    plt.text(index, value, f\"{value:.2f}\", ha='center', va='bottom')\n",
    "plt.tight_layout()\n",
    "plt.show()\n",
    "\n",
    "# Plotting Memory Usage\n",
    "plt.figure(figsize=(10, 6))\n",
    "plt.bar(memory_usages.keys(), memory_usages.values(), color='salmon')\n",
    "plt.xlabel('Model')\n",
    "plt.ylabel('Peak Memory Usage (MB)')\n",
    "plt.title('Peak Memory Usage for Each Model')\n",
    "plt.xticks(rotation=45)\n",
    "for index, value in enumerate(memory_usages.values()):\n",
    "    plt.text(index, value, f\"{value:.2f}\", ha='center', va='bottom')\n",
    "plt.tight_layout()\n",
    "plt.show()\n"
   ]
  },
  {
   "cell_type": "markdown",
   "id": "21334a1f",
   "metadata": {
    "papermill": {
     "duration": 0.029063,
     "end_time": "2024-09-11T19:21:54.268646",
     "exception": false,
     "start_time": "2024-09-11T19:21:54.239583",
     "status": "completed"
    },
    "tags": []
   },
   "source": [
    "**<a id=\"5\"></a>\n",
    "<h1><b><p style=\"background-image: url(https://i.postimg.cc/0Qwf8YX6/2927262.jpg);font-family:camtasia;font-size:110%;color:white;text-align:center;border-radius:15px 50px; padding:7px; border:solid 2px #09375b; box-shadow: 10px 10px 10px #042b4c\">Logic for Recommendations</p></b></h1>\n",
    "<a class=\"btn\" href=\"#home\">Tabel of Contents</a>"
   ]
  },
  {
   "cell_type": "code",
   "execution_count": 189,
   "id": "904769b2",
   "metadata": {
    "execution": {
     "iopub.execute_input": "2024-09-11T19:21:54.330871Z",
     "iopub.status.busy": "2024-09-11T19:21:54.330504Z",
     "iopub.status.idle": "2024-09-11T19:21:54.341989Z",
     "shell.execute_reply": "2024-09-11T19:21:54.340991Z"
    },
    "papermill": {
     "duration": 0.046436,
     "end_time": "2024-09-11T19:21:54.343878",
     "exception": false,
     "start_time": "2024-09-11T19:21:54.297442",
     "status": "completed"
    },
    "tags": []
   },
   "outputs": [
    {
     "name": "stdout",
     "output_type": "stream",
     "text": [
      "*******************symptoms_dict*****************\n",
      "\n",
      " {'gatal': 0, 'ruam kulit': 1, 'erupsi_kulit_nodal': 2, 'bersin_terus_menerus': 3, 'gemetaran': 4, 'panas dingin': 5, 'nyeri sendi': 6, 'sakit perut': 7, 'keasaman': 8, 'bisul_di_lidah': 9, 'pemborosan_otot': 10, 'muntah': 11, 'pembakaran_kemih': 12, 'bercak_buang air kecil': 13, 'kelelahan': 14, 'berat_naik': 15, 'kecemasan': 16, 'tangan dan kaki dingin': 17, 'perubahan suasana hati': 18, 'penurunan_berat_badan': 19, 'kegelisahan': 20, 'kelesuan': 21, 'bercak_di_tenggorokan': 22, 'kadar_gula_tidak_beraturan': 23, 'batuk': 24, 'demam tinggi': 25, 'mata_cekung': 26, 'sesak napas': 27, 'berkeringat': 28, 'dehidrasi': 29, 'gangguan pencernaan': 30, 'sakit kepala': 31, 'kulit kekuningan': 32, 'urin_gelap': 33, 'mual': 34, 'kehilangan_nafsu_nafsu_makan': 35, 'nyeri di belakang mata': 36, 'sakit punggung': 37, 'sembelit': 38, 'nyeri perut': 39, 'diare': 40, 'demam ringan': 41, 'urin_kuning': 42, 'menguningnya_mata': 43, 'gagal_hati_akut': 44, 'kelebihan cairan': 45, 'perut bengkak': 46, 'pembengkakan_kelenjar_getah_limfa': 47, 'rasa tidak enak': 48, 'penglihatan_kabur_dan_terdistorsi': 49, 'dahak': 50, 'iritasi_tenggorokan': 51, 'mata_merah': 52, 'tekanan_sinus': 53, 'pilek': 54, 'penyumbatan': 55, 'nyeri dada': 56, 'kelemahan_pada_anggota_tubuh': 57, 'detak_jantung_cepat': 58, 'nyeri_saat_buang_air_besar': 59, 'nyeri_di_daerah_anal': 60, 'tinja_berdarah': 61, 'iritasi_di_anus': 62, 'nyeri leher': 63, 'pusing': 64, 'kram': 65, 'memar': 66, 'kegemukan': 67, 'kaki_bengkak': 68, 'pembuluh_darah_bengkak': 69, 'wajah dan mata bengkak': 70, 'pembesaran_tiroid': 71, 'kuku_rapuh': 72, 'ekstremitas bengkak': 73, 'rasa lapar yang berlebihan': 74, 'kontak di luar nikah': 75, 'bibir_kering_dan_kesemutan': 76, 'bicara tidak jelas': 77, 'nyeri lutut': 78, 'nyeri sendi pinggul': 79, 'kelemahan otot': 80, 'leher kaku': 81, 'pembengkakan_sendi': 82, 'gerakan_kekakuan': 83, 'gerakan_berputar': 84, 'kehilangan keseimbangan': 85, 'kegoyangan': 86, 'kelemahan_satu_sisi_tubuh': 87, 'kehilangan_bau': 88, 'ketidaknyamanan kandung kemih': 89, 'bau_pesing_yang_busuk': 90, 'rasa_kencing_terus_menerus': 91, 'aliran_gas': 92, 'gatal_dalam': 93, 'tampilan_toksik_(tifos)': 94, 'depresi': 95, 'sifat lekas marah': 96, 'nyeri otot': 97, 'sensorium yang diubah': 98, 'bintik_merah_di_tubuh': 99, 'sakit perut.1': 100, 'menstruasi_tidak_normal': 101, 'bercak diskromik': 102, 'mata berair': 103, 'nafsu makan meningkat': 104, 'poliuria': 105, 'sejarah keluarga': 106, 'dahak_mucoid': 107, 'dahak berkarat': 108, 'kurangnya_konsentrasi': 109, 'gangguan_visual': 110, 'menerima_transfusi_darah': 111, 'menerima_suntikan_yang_tidak_steril': 112, 'koma': 113, 'pendarahan lambung': 114, 'distensi_perut': 115, 'sejarah_konsumsi_alkohol': 116, 'kelebihan cairan.1': 117, 'darah_dalam_dahak': 118, 'urat_yang_menonjol_di_betis': 119, 'palpitasi': 120, 'berjalan dengan menyakitkan': 121, 'jerawat_berisi_nanah': 122, 'komedo': 123, 'menggeliat': 124, 'kulit_terkelupas': 125, 'debu_seperti_perak': 126, 'lekukan kecil pada kuku': 127, 'kuku_inflamasi': 128, 'lepuh': 129, 'luka_merah_di_sekitar_hidung': 130, 'kerak_kuning_cairan_kerak': 131}\n",
      "\n",
      "\n",
      "*******************diseases_list*****************\n",
      "\n",
      " {15: 'Infeksi jamur', 2: 'Alergi', 24: 'Penyakit GERD', 19: 'Kolestasis kronis', 35: 'Reaksi Obat', 30: 'Penyakit tukak lambung', 1: 'AIDS', 6: 'Diabetes', 33: 'Radang perut', 3: 'Asma Bronkial', 10: 'Hipertensi', 21: 'Migrain', 37: 'Spondilosis serviks', 18: 'Kelumpuhan (pendarahan otak)', 28: 'Penyakit kuning', 20: 'Malaria', 4: 'Cacar air', 5: 'Demam Berdarah', 29: 'Penyakit tipus', 40: 'penyakit hepatitis A', 25: 'Penyakit Hepatitis B', 26: 'Penyakit Hepatitis C', 27: 'Penyakit Hepatitis D.', 8: 'Hepatitis E', 9: 'Hepatitis alkoholik', 38: 'Tuberkulosis', 7: 'Flu biasa', 32: 'Radang paru-paru', 39: 'Wasir dimorfik (ambeien)', 36: 'Serangan jantung', 23: 'Pembuluh mekar', 13: 'Hipotiroidisme', 11: 'Hipertiroidisme', 12: 'Hipoglikemia', 22: 'Osteoartritis', 34: 'Radang sendi', 0: '(vertigo) Vertigo Posisi Paroymsal', 17: 'Jerawat', 16: 'Infeksi saluran kemih', 31: 'Psoriasis', 14: 'Impetigo'}\n"
     ]
    }
   ],
   "source": [
    "symptoms_dict = {}\n",
    "diseases_list = {}\n",
    "for name in names:\n",
    "    diseases_list[label.transform([name])[0]] = name\n",
    "with open('diseases_list.pkl', 'wb') as f:\n",
    "    pickle.dump(diseases_list, f)\n",
    "for i,name in enumerate(keys):\n",
    "    symptoms_dict[name] = i\n",
    "with open('symptoms_dict.pkl', 'wb') as f:\n",
    "    pickle.dump(symptoms_dict, f)\n",
    "print('*******************symptoms_dict*****************\\n\\n',symptoms_dict)\n",
    "print('\\n\\n*******************diseases_list*****************\\n\\n',diseases_list)"
   ]
  },
  {
   "cell_type": "code",
   "execution_count": 190,
   "id": "caec8cd3",
   "metadata": {},
   "outputs": [
    {
     "data": {
      "text/html": [
       "<div>\n",
       "<style scoped>\n",
       "    .dataframe tbody tr th:only-of-type {\n",
       "        vertical-align: middle;\n",
       "    }\n",
       "\n",
       "    .dataframe tbody tr th {\n",
       "        vertical-align: top;\n",
       "    }\n",
       "\n",
       "    .dataframe thead th {\n",
       "        text-align: right;\n",
       "    }\n",
       "</style>\n",
       "<table border=\"1\" class=\"dataframe\">\n",
       "  <thead>\n",
       "    <tr style=\"text-align: right;\">\n",
       "      <th></th>\n",
       "      <th>Unnamed: 0</th>\n",
       "      <th>penyakit</th>\n",
       "      <th>olahraga</th>\n",
       "    </tr>\n",
       "  </thead>\n",
       "  <tbody>\n",
       "    <tr>\n",
       "      <th>0</th>\n",
       "      <td>0</td>\n",
       "      <td>Infeksi jamur</td>\n",
       "      <td>Hindari makanan manis</td>\n",
       "    </tr>\n",
       "    <tr>\n",
       "      <th>1</th>\n",
       "      <td>1</td>\n",
       "      <td>Infeksi jamur</td>\n",
       "      <td>Mengonsumsi probiotik</td>\n",
       "    </tr>\n",
       "    <tr>\n",
       "      <th>2</th>\n",
       "      <td>2</td>\n",
       "      <td>Infeksi jamur</td>\n",
       "      <td>Tingkatkan asupan bawang putih</td>\n",
       "    </tr>\n",
       "    <tr>\n",
       "      <th>3</th>\n",
       "      <td>3</td>\n",
       "      <td>Infeksi jamur</td>\n",
       "      <td>Sertakan yogurt dalam diet Anda</td>\n",
       "    </tr>\n",
       "    <tr>\n",
       "      <th>4</th>\n",
       "      <td>4</td>\n",
       "      <td>Infeksi jamur</td>\n",
       "      <td>Batasi makanan olahan</td>\n",
       "    </tr>\n",
       "  </tbody>\n",
       "</table>\n",
       "</div>"
      ],
      "text/plain": [
       "   Unnamed: 0       penyakit                         olahraga\n",
       "0           0  Infeksi jamur            Hindari makanan manis\n",
       "1           1  Infeksi jamur            Mengonsumsi probiotik\n",
       "2           2  Infeksi jamur   Tingkatkan asupan bawang putih\n",
       "3           3  Infeksi jamur  Sertakan yogurt dalam diet Anda\n",
       "4           4  Infeksi jamur            Batasi makanan olahan"
      ]
     },
     "execution_count": 190,
     "metadata": {},
     "output_type": "execute_result"
    }
   ],
   "source": [
    "symtoms_df = pd.read_csv('C:/Users/Widnyana/Downloads/NAMA SAYA/MAHASISWA_NAMA SAYA_V1/Source/indo/workout.csv')\n",
    "symtoms_df.drop('Tanpa Nama: 0',axis=1,inplace=True)\n",
    "symtoms_df.head()"
   ]
  },
  {
   "cell_type": "code",
   "execution_count": 191,
   "id": "b9012238",
   "metadata": {
    "execution": {
     "iopub.execute_input": "2024-09-11T19:21:54.401934Z",
     "iopub.status.busy": "2024-09-11T19:21:54.401609Z",
     "iopub.status.idle": "2024-09-11T19:21:54.409851Z",
     "shell.execute_reply": "2024-09-11T19:21:54.408974Z"
    },
    "papermill": {
     "duration": 0.039302,
     "end_time": "2024-09-11T19:21:54.411650",
     "exception": false,
     "start_time": "2024-09-11T19:21:54.372348",
     "status": "completed"
    },
    "tags": []
   },
   "outputs": [],
   "source": [
    "# Model Prediction function\n",
    "def get_predicted_value(patient_symptoms):\n",
    "    input_vector = np.zeros(len(symptoms_dict))\n",
    "    for item in patient_symptoms:\n",
    "        input_vector[symptoms_dict[item]] = 1\n",
    "    return diseases_list[model.predict([input_vector])[0]]\n",
    "\n",
    "symptoms = 'kuku_inflamasi, lepuh, luka_merah_di_sekitar_hidung, kerak_kuning_cairan_kerak'\n",
    "user_symptoms = [s.strip() for s in symptoms.split(',')]\n",
    "\n",
    "predicted_disease = get_predicted_value(user_symptoms)\n",
    "def helper(dis):\n",
    "    desc = description[description['Penyakit'] == predicted_disease]['Keterangan']\n",
    "    desc = \" \".join([w for w in desc])\n",
    "\n",
    "    pre = precautions_df[precautions_df['Penyakit'] == dis][['Tindakan pencegahan_1', 'Tindakan pencegahan_2', 'Tindakan pencegahan_3', 'Tindakan pencegahan_4']]\n",
    "    pre = [col for col in pre.values]\n",
    "\n",
    "    med = medications[medications['Penyakit'] == dis]['Pengobatan']\n",
    "    med = [med for med in med.values]\n",
    "\n",
    "    die = diets[diets['Penyakit'] == dis]['Diet']\n",
    "    die = [die for die in die.values]\n",
    "\n",
    "    wrkout = workout_df[workout_df['penyakit'] == dis] ['olahraga']\n",
    "\n",
    "\n",
    "    return desc,pre,med,die,wrkout\n",
    "\n"
   ]
  },
  {
   "cell_type": "code",
   "execution_count": 192,
   "id": "6132b3f7",
   "metadata": {
    "execution": {
     "iopub.execute_input": "2024-09-11T19:21:54.469775Z",
     "iopub.status.busy": "2024-09-11T19:21:54.469379Z",
     "iopub.status.idle": "2024-09-11T19:21:54.490902Z",
     "shell.execute_reply": "2024-09-11T19:21:54.489633Z"
    },
    "papermill": {
     "duration": 0.053289,
     "end_time": "2024-09-11T19:21:54.493193",
     "exception": false,
     "start_time": "2024-09-11T19:21:54.439904",
     "status": "completed"
    },
    "tags": []
   },
   "outputs": [
    {
     "name": "stdout",
     "output_type": "stream",
     "text": [
      "=================predicted disease============\n",
      "Impetigo\n",
      "=================description==================\n",
      "Impetigo adalah infeksi kulit yang sangat menular yang menyebabkan luka merah yang dapat pecah.\n",
      "=================precautions==================\n",
      "1 :  rendam bagian yang terkena dengan air hangat\n",
      "2 :  menggunakan antibiotik\n",
      "3 :  menghilangkan keropeng dengan kain basah yang dikompres\n",
      "4 :  konsultasi dokter\n",
      "=================medications==================\n",
      "1 :  Antibiotiktopikal,Antibiotikoral,Antiseptik,Salep,Kompreshangat\n",
      "=================workout==================\n",
      "1 :  Jaga kebersihan dengan baik\n",
      "2 :  Tetap terhidrasi\n",
      "3 :  Konsumsi makanan yang kaya nutrisi\n",
      "4 :  Batasi makanan dan minuman manis\n",
      "5 :  Sertakan makanan yang kaya vitamin C\n",
      "6 :  Konsultasikan dengan tenaga kesehatan profesional\n",
      "7 :  Ikuti anjuran medis\n",
      "8 :  Hindari menggaruk\n",
      "9 :  Minum antibiotik yang diresepkan\n",
      "10 :  Berlatih perawatan luka\n",
      "=================diets==================\n",
      "1 :  DietImpetigo,Pengobatanantibiotik,Buahdansayuran,Hidrasi,Makanankayaprotein\n"
     ]
    }
   ],
   "source": [
    "symptoms = 'kuku_inflamasi, lepuh, luka_merah_di_sekitar_hidung, kerak_kuning_cairan_kerak'\n",
    "user_symptoms = [s.strip() for s in symptoms.split(',')]\n",
    "\n",
    "predicted_disease = get_predicted_value(user_symptoms)\n",
    "\n",
    "desc, pre, med, die, wrkout = helper(predicted_disease)\n",
    "\n",
    "print(\"=================predicted disease============\")\n",
    "print(predicted_disease)\n",
    "print(\"=================description==================\")\n",
    "print(desc)\n",
    "print(\"=================precautions==================\")\n",
    "i = 1\n",
    "for p_i in pre[0]:\n",
    "    print(i, \": \", p_i)\n",
    "    i += 1\n",
    "\n",
    "print(\"=================medications==================\")\n",
    "i = 1\n",
    "for m_i in med:\n",
    "    print(i, \": \", m_i)\n",
    "    i += 1\n",
    "\n",
    "print(\"=================workout==================\")\n",
    "i = 1\n",
    "for w_i in wrkout:\n",
    "    print(i, \": \", w_i)\n",
    "    i += 1\n",
    "\n",
    "print(\"=================diets==================\")\n",
    "i = 1\n",
    "for d_i in die:\n",
    "    print(i, \": \", d_i)\n",
    "    i += 1"
   ]
  },
  {
   "cell_type": "markdown",
   "id": "ec208080",
   "metadata": {
    "papermill": {
     "duration": 0.028898,
     "end_time": "2024-09-11T19:21:54.739755",
     "exception": false,
     "start_time": "2024-09-11T19:21:54.710857",
     "status": "completed"
    },
    "tags": []
   },
   "source": [
    "**<a id=\"6\"></a>\n",
    "<h1><b><p style=\"background-image: url(https://i.postimg.cc/0Qwf8YX6/2927262.jpg);font-family:camtasia;font-size:110%;color:white;text-align:center;border-radius:15px 50px; padding:7px; border:solid 2px #09375b; box-shadow: 10px 10px 10px #042b4c\">Like this? Upvote and comment! 🌊 End</p></b></h1>\n",
    "<a class=\"btn\" href=\"#home\">Tabel of Contents</a>"
   ]
  }
 ],
 "metadata": {
  "kaggle": {
   "accelerator": "gpu",
   "dataSources": [
    {
     "datasetId": 4286222,
     "sourceId": 7376281,
     "sourceType": "datasetVersion"
    }
   ],
   "dockerImageVersionId": 30762,
   "isGpuEnabled": true,
   "isInternetEnabled": true,
   "language": "python",
   "sourceType": "notebook"
  },
  "kernelspec": {
   "display_name": "Python 3",
   "language": "python",
   "name": "python3"
  },
  "language_info": {
   "codemirror_mode": {
    "name": "ipython",
    "version": 3
   },
   "file_extension": ".py",
   "mimetype": "text/x-python",
   "name": "python",
   "nbconvert_exporter": "python",
   "pygments_lexer": "ipython3",
   "version": "3.9.13"
  },
  "papermill": {
   "default_parameters": {},
   "duration": 1061.006673,
   "end_time": "2024-09-11T19:21:57.388021",
   "environment_variables": {},
   "exception": null,
   "input_path": "__notebook__.ipynb",
   "output_path": "__notebook__.ipynb",
   "parameters": {},
   "start_time": "2024-09-11T19:04:16.381348",
   "version": "2.6.0"
  }
 },
 "nbformat": 4,
 "nbformat_minor": 5
}
